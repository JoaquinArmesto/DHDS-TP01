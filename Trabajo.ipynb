{
 "cells": [
  {
   "cell_type": "markdown",
   "metadata": {
    "pycharm": {
     "name": "#%% md\n"
    }
   },
   "source": [
    "## Imports y settings <br>"
   ]
  },
  {
   "cell_type": "markdown",
   "metadata": {},
   "source": [
    "### Imports <br>"
   ]
  },
  {
   "cell_type": "code",
   "execution_count": 203,
   "metadata": {},
   "outputs": [],
   "source": [
    "import pandas as pd\n",
    "import numpy as np\n",
    "import warnings\n",
    "import re\n",
    "import requests\n",
    "import seaborn as sn\n",
    "import matplotlib.pyplot as plt\n",
    "import plotly.graph_objects as go\n",
    "import plotly.express as px\n",
    "from plotly.subplots import make_subplots\n",
    "import reverse_geocoder as rg\n",
    "import missingno as msno"
   ]
  },
  {
   "cell_type": "markdown",
   "metadata": {},
   "source": [
    "<br>"
   ]
  },
  {
   "cell_type": "markdown",
   "metadata": {},
   "source": [
    "<br>"
   ]
  },
  {
   "cell_type": "markdown",
   "metadata": {},
   "source": [
    "#### Settings"
   ]
  },
  {
   "cell_type": "code",
   "execution_count": 204,
   "metadata": {},
   "outputs": [],
   "source": [
    "# Seaborn style\n",
    "sn.set_theme()\n",
    "\n",
    "\n",
    "# Color palette for Plotly\n",
    "palette = [\"#FC645F\", \"#A8E4A0\", \"#7088FF\", \"#FEB1AF\"]\n",
    "\n",
    "\n",
    "# Silencing warnings\n",
    "warnings.filterwarnings('ignore')\n",
    "\n",
    "\n",
    "# Setting max columns to six\n",
    "pd.options.display.max_columns = 15\n",
    "\n",
    "\n",
    "# Setting max rows to ten\n",
    "pd.options.display.max_rows = 10\n",
    "\n",
    "\n",
    "# Disable scientific notation\n",
    "pd.set_option('display.float_format', lambda x: '%.3f' % x)\n",
    "\n",
    "\n",
    "# Loading dataset\n",
    "file = 'dataset.csv'\n",
    "df = pd.read_csv(file)"
   ]
  },
  {
   "cell_type": "markdown",
   "metadata": {},
   "source": [
    "<br>"
   ]
  },
  {
   "cell_type": "markdown",
   "metadata": {},
   "source": [
    "<br>"
   ]
  },
  {
   "cell_type": "markdown",
   "metadata": {},
   "source": [
    "### Funciones<br>"
   ]
  },
  {
   "cell_type": "markdown",
   "metadata": {},
   "source": [
    "<b>table_dtype</b> <br>\n",
    "<br>"
   ]
  },
  {
   "cell_type": "code",
   "execution_count": 205,
   "metadata": {},
   "outputs": [],
   "source": [
    "def table_dtype(dataframe,rtn=True):\n",
    "  # Función que crea reporte de tipo de variables y datos\n",
    "  # dataframe = objet.dataframe\n",
    "  # arg = True: use fig.show() otherwise it returns fig for object\n",
    "  df_dtypes = dataframe.convert_dtypes()\n",
    "  table_columns = [column for column in df_dtypes.dtypes.index.values]\n",
    "  table_values = [str(value) for value in df_dtypes.dtypes]\n",
    "  values = pd.Series(table_values)\n",
    "  fig = make_subplots(rows=2,\n",
    "                      cols=2,\n",
    "                      specs=[[{\"type\":\"table\"},{\"type\":\"domain\"}],\n",
    "                             [{\"type\":\"table\"},{\"type\":\"domain\"}]],\n",
    "                      subplot_titles=[\"\",\n",
    "                                      \"<b>TYPE\",\n",
    "                                      \"\",\n",
    "                                      \"<b>CLASS\"])\n",
    "  fig.add_trace(go.Pie(labels=values.value_counts().index,\n",
    "                       values=values.value_counts(),\n",
    "                       marker_colors=palette,\n",
    "                       hole=0.4,\n",
    "                       title=values.shape[0],\n",
    "                       legendgroup=\"pie\"),1,2)\n",
    "  fig.update_traces(textposition='inside')\n",
    "  fig.add_trace(go.Table(header=dict(values=['Column',\n",
    "                                             'Data type'],\n",
    "                                     fill_color=\"#A8E4A0\",\n",
    "                                     line_color='darkslategray'),\n",
    "                         cells=dict(values=[table_columns,\n",
    "                                            table_values],\n",
    "                                    line_color='darkslategray')),1,1)\n",
    "  fig.update_layout(height=500,width=1000,\n",
    "                    title=\"<b>DATA TYPE ANALYSIS\",\n",
    "                    font_size=12)\n",
    "\n",
    "  type_var = []\n",
    "  for value in range(0,len(df_dtypes.dtypes)):\n",
    "    if \"Int\"  in str(df_dtypes.dtypes[value]) or \"Float\" in str(df_dtypes.dtypes[value]):\n",
    "      type_var.append(\"Numerical\")\n",
    "    else:\n",
    "      if len(df_dtypes[df_dtypes.dtypes.index[value]].value_counts().index) <= 2:\n",
    "        type_var.append(\"Numerical/Boolean\")\n",
    "      else:\n",
    "        if len(df_dtypes[df_dtypes.dtypes.index[value]].value_counts().index) >= 100:\n",
    "          type_var.append(\"Undetermined\")\n",
    "        else:\n",
    "          type_var.append(\"Categorical\")\n",
    "\n",
    "  pie_values = [values for values in [type_var.count(\"Categorical\"), type_var.count(\"Undetermined\"), type_var.count(\"Numerical\"), type_var.count(\"Numerical/Boolean\")] if values !=0]\n",
    "  pie_labels = str(set(type_var)).replace(\"{\",\"\").replace(\"}\",\"\").replace(\"'\",\"\").split(\",\")\n",
    "  fig.add_trace(go.Table(header=dict(values=[\"Columns\",\n",
    "                                             \"Classification\"],\n",
    "                                     fill_color=\"#A8E4A0\",\n",
    "                                     line_color='darkslategray'),\n",
    "                         cells=dict(values=[df_dtypes.dtypes.index,type_var])),2,1)\n",
    "  fig.add_trace(go.Pie(labels=pie_labels,\n",
    "                       values=pie_values,\n",
    "                       marker_colors=palette,\n",
    "                       hole=0.4,\n",
    "                       legendgroup=\"pie2\"),2,2)\n",
    "  fig.update_layout(height=800,width=1000,title=\"<b>DATA TYPE ANALYSIS\",font_size=14)\n",
    "  if rtn == True:\n",
    "    fig.show()\n",
    "  else:\n",
    "    return fig"
   ]
  },
  {
   "cell_type": "markdown",
   "metadata": {},
   "source": [
    "<br>"
   ]
  },
  {
   "cell_type": "markdown",
   "metadata": {},
   "source": [
    "<b>historical_currency_data</b><br>\n",
    "Esta función consume la API exchangerate.host para retornar datos relativa al tipo de cambio de una moneda en relación al dolar.<br>"
   ]
  },
  {
   "cell_type": "code",
   "execution_count": 206,
   "metadata": {},
   "outputs": [],
   "source": [
    "def historical_currency_data(target_year, month_start, month_end, currency):\n",
    "    exchg_series = []\n",
    "    dates_series = []\n",
    "\n",
    "    # Loop through month range for api consume\n",
    "    for month in range(month_start,month_end+1):\n",
    "        data = requests.get(f'https://api.exchangerate.host/{target_year}-{month}-15', params={'base':'USD', 'symbols':currency}).json()\n",
    "        exchg_series.append(data['rates'][currency])\n",
    "        dates_series.append(f'{target_year}-{month}-15')\n",
    "\n",
    "\n",
    "    # We return the series in a readable dataframe format\n",
    "    return pd.DataFrame({'index': [i for i in range(month_start, month_end+1)] ,'date': dates_series, 'rate':exchg_series}).set_index('index')"
   ]
  },
  {
   "cell_type": "markdown",
   "metadata": {},
   "source": [
    "<br>"
   ]
  },
  {
   "cell_type": "markdown",
   "metadata": {},
   "source": [
    "<b>viz_categorical</b> <br>\n",
    "Esta función dinamicamente encuentra las variables catégoricas (con un value count de 25 o menos) de un dataframe y plotea los distintos valores en la serie. La utilizaremos para encontrar las variables categóricas sino tambien para marcar aquellas que son constantes, es decir, cuentan con un solo valor.<br>"
   ]
  },
  {
   "cell_type": "code",
   "execution_count": 207,
   "metadata": {},
   "outputs": [],
   "source": [
    "def viz_categorical(dataframe):\n",
    "    column_list = [column for column in dataframe.columns if len(dataframe[column].value_counts().index)>0 and len(dataframe[column].value_counts().index)<=40]\n",
    "    context_dataframe = dataframe[column_list]\n",
    "    \n",
    "    \n",
    "    # Calculating row index for plot based on x * 3 design\n",
    "    if context_dataframe.shape[1] % 3 != 0:\n",
    "        rows = round(context_dataframe.shape[1] / 3) + 1\n",
    "    else:\n",
    "        rows = round(context_dataframe.shape[1] / 3)\n",
    "\n",
    "\n",
    "    # Plot constants\n",
    "    fig, axes = plt.subplots(rows,3, figsize=(15, 10))\n",
    "    fig.suptitle('Categorical variables')\n",
    "    \n",
    "    col_iter = 0\n",
    "    row_iter = 0\n",
    "\n",
    "\n",
    "    # Plotting\n",
    "    for column, (i, ax) in zip(context_dataframe.columns, enumerate(fig.axes)):\n",
    "        col_loc = context_dataframe.columns.get_loc(column)\n",
    "        sn.barplot(x=context_dataframe[column].value_counts().index, y=context_dataframe[column].value_counts().values, ax=ax)\n",
    "        ax.title.set_text(column)\n",
    "        if len(context_dataframe[column].value_counts().index) > 5:\n",
    "            ax.set_xticks([])"
   ]
  },
  {
   "cell_type": "markdown",
   "metadata": {},
   "source": [
    "<br>"
   ]
  },
  {
   "cell_type": "code",
   "execution_count": 208,
   "metadata": {},
   "outputs": [],
   "source": [
    "\n",
    "\n",
    "def dat_insights(dataframe,sheet_name=False,rtn=True,dat=False,date_parse=False):\n",
    "  if type(dataframe) == str:\n",
    "    dataframe = data_capture(dataframe,sheet_name,date_parse).capture()\n",
    "  if dat is not False:\n",
    "    dataframe = column_cleaner(dataframe,[column for column in dataframe.columns if column in dat])\n",
    "  null_values = dataframe.isnull().sum().sort_values(ascending=False)\n",
    "  nulls_sum = (dataframe.isnull().sum()).sum()\n",
    "  fields_sum = (dataframe.shape[0] * dataframe.shape[1]) - nulls_sum\n",
    "  nulls_percentile = max(null_values)\n",
    "  fills_percentile = dataframe.shape[0] - nulls_percentile\n",
    "  if null_values.shape[0] > 15:\n",
    "    null_values = null_values[null_values != 0]\n",
    "  else:\n",
    "    pass\n",
    "  fig = make_subplots(rows=2,\n",
    "                      cols=2,\n",
    "                      subplot_titles=[\"<b>CORRECT ENTRIES</b>\",\n",
    "                                      \"<b>CORRECT CELLS\",\n",
    "                                      \"<b>NULLS/COLUMN</b>\"],\n",
    "                      specs=[[{'type':'domain'},{'type':'domain'}],\n",
    "                             [{'type':'xy',\"colspan\":2},{}]])\n",
    "  fig.add_trace(go.Pie(labels=[\"Null entries\",\"Valid entries\"],\n",
    "                       values=[nulls_percentile,fills_percentile],\n",
    "                       hole=0.4,\n",
    "                       marker_colors=palette,\n",
    "                       name=\"Correct entries\",\n",
    "                       title=dataframe.shape[0],legendgroup=\"apie\"),1,1)\n",
    "  fig.add_trace(go.Pie(labels=[\"Null cells\",\n",
    "                               \"Valid cells\"],\n",
    "                       values=[nulls_sum,\n",
    "                               fields_sum],\n",
    "                       hole=0.4,\n",
    "                       marker_colors=palette,\n",
    "                       name=\"Correct cells\",\n",
    "                       title=dataframe.shape[0]*dataframe.shape[1],\n",
    "                       legendgroup=\"pie\"),1,2)\n",
    "  fig.add_trace(go.Bar(x=null_values,\n",
    "                       y=null_values.index,\n",
    "                       name=\"Nulls/Column\",\n",
    "                       orientation=\"h\",\n",
    "                       marker_color=\"#FC645F\",\n",
    "                       showlegend=False),2,1)\n",
    "  fig.update_traces(textposition='inside')\n",
    "  fig.update_layout(height=600,\n",
    "                    width=800,\n",
    "                    title=f\"<b>{sheet_name.upper()} INSIGHTS</b>\",\n",
    "                    yaxis_title=\"Columns\",\n",
    "                    xaxis_title=\"Nulls\",\n",
    "                    font_size=14)\n",
    "  if rtn == True:\n",
    "    fig.show(config={'modeBarButtonsToAdd':['drawline',\n",
    "                                            'drawopenpath',\n",
    "                                            'drawclosedpath',\n",
    "                                            'drawcircle',\n",
    "                                            'drawrect',\n",
    "                                            'eraseshape']})\n",
    "  else:\n",
    "    return fig\n",
    "\n",
    "\n",
    "\n",
    "\n",
    "\n",
    "def correlation_matrix(dataframe, name, rtn=True):\n",
    "  dataframe = dataframe.convert_dtypes()\n",
    "  fig=make_subplots(cols=1,\n",
    "                    rows=1)\n",
    "  z,x = dataframe.corr(method=\"pearson\"),dataframe.corr(method=\"pearson\").columns\n",
    "  fig.add_trace(go.Heatmap(z = z,\n",
    "                           x = x,\n",
    "                           y = x,\n",
    "                           colorscale=\"Burg\"))\n",
    "  fig.update_layout(height=800,width=800,title=f\"<b>{name} FEATURE CORRELATION MATRIX\")\n",
    "  if rtn == True:\n",
    "    fig.show('png')\n",
    "        # fig.show(config={'modeBarButtonsToAdd':['drawline',\n",
    "        #                                     'drawopenpath',\n",
    "        #                                     'drawclosedpath',\n",
    "        #                                     'drawcircle',\n",
    "        #                                     'drawrect',\n",
    "        #                                     'eraseshape']})\n",
    "  else:\n",
    "    return fig"
   ]
  },
  {
   "cell_type": "markdown",
   "metadata": {},
   "source": [
    "<br>"
   ]
  },
  {
   "cell_type": "markdown",
   "metadata": {},
   "source": [
    "<br>"
   ]
  },
  {
   "cell_type": "markdown",
   "metadata": {
    "pycharm": {
     "name": "#%% md\n"
    }
   },
   "source": [
    "## Analisis de datos exploratorio<br>"
   ]
  },
  {
   "cell_type": "markdown",
   "metadata": {},
   "source": [
    "### Primeros pasos <br>"
   ]
  },
  {
   "cell_type": "markdown",
   "metadata": {},
   "source": [
    "Primero exportamos nuestro dataset como objecto pandas.dataframe para realizar las primeras observaciones. Observamos el número total de filas, columnas y la presencia de un elevado número de duplicados.\n",
    "Con la utilización del método append, head y tail, generamos una preview del dataframe basada en los cinco primeros y últimos registros. <br>"
   ]
  },
  {
   "cell_type": "code",
   "execution_count": 209,
   "metadata": {},
   "outputs": [
    {
     "name": "stdout",
     "output_type": "stream",
     "text": [
      "El dataframe cuenta 121220 filas, 26 columnas y un total de 0 duplicados que representan un 0% del total de entradas\n"
     ]
    }
   ],
   "source": [
    "print(f\"El dataframe cuenta {df.shape[0]} filas, {df.shape[1]} columnas y un total de {df.duplicated().sum()} duplicados que representan un {round(df.duplicated().sum()/df.shape[0] * 100)}% del total de entradas\")"
   ]
  },
  {
   "cell_type": "markdown",
   "metadata": {},
   "source": [
    "<br>"
   ]
  },
  {
   "cell_type": "code",
   "execution_count": 210,
   "metadata": {},
   "outputs": [
    {
     "data": {
      "text/html": [
       "<div>\n",
       "<style scoped>\n",
       "    .dataframe tbody tr th:only-of-type {\n",
       "        vertical-align: middle;\n",
       "    }\n",
       "\n",
       "    .dataframe tbody tr th {\n",
       "        vertical-align: top;\n",
       "    }\n",
       "\n",
       "    .dataframe thead th {\n",
       "        text-align: right;\n",
       "    }\n",
       "</style>\n",
       "<table border=\"1\" class=\"dataframe\">\n",
       "  <thead>\n",
       "    <tr style=\"text-align: right;\">\n",
       "      <th></th>\n",
       "      <th>Unnamed: 0</th>\n",
       "      <th>operation</th>\n",
       "      <th>property_type</th>\n",
       "      <th>place_name</th>\n",
       "      <th>place_with_parent_names</th>\n",
       "      <th>country_name</th>\n",
       "      <th>state_name</th>\n",
       "      <th>...</th>\n",
       "      <th>floor</th>\n",
       "      <th>rooms</th>\n",
       "      <th>expenses</th>\n",
       "      <th>properati_url</th>\n",
       "      <th>description</th>\n",
       "      <th>title</th>\n",
       "      <th>image_thumbnail</th>\n",
       "    </tr>\n",
       "  </thead>\n",
       "  <tbody>\n",
       "    <tr>\n",
       "      <th>0</th>\n",
       "      <td>0</td>\n",
       "      <td>sell</td>\n",
       "      <td>PH</td>\n",
       "      <td>Mataderos</td>\n",
       "      <td>|Argentina|Capital Federal|Mataderos|</td>\n",
       "      <td>Argentina</td>\n",
       "      <td>Capital Federal</td>\n",
       "      <td>...</td>\n",
       "      <td>NaN</td>\n",
       "      <td>NaN</td>\n",
       "      <td>NaN</td>\n",
       "      <td>http://www.properati.com.ar/15bo8_venta_ph_mat...</td>\n",
       "      <td>2 AMBIENTES TIPO CASA PLANTA BAJA POR PASILLO,...</td>\n",
       "      <td>2 AMB TIPO CASA SIN EXPENSAS EN PB</td>\n",
       "      <td>https://thumbs4.properati.com/8/BluUYiHJLhgIIK...</td>\n",
       "    </tr>\n",
       "    <tr>\n",
       "      <th>1</th>\n",
       "      <td>1</td>\n",
       "      <td>sell</td>\n",
       "      <td>apartment</td>\n",
       "      <td>La Plata</td>\n",
       "      <td>|Argentina|Bs.As. G.B.A. Zona Sur|La Plata|</td>\n",
       "      <td>Argentina</td>\n",
       "      <td>Bs.As. G.B.A. Zona Sur</td>\n",
       "      <td>...</td>\n",
       "      <td>NaN</td>\n",
       "      <td>NaN</td>\n",
       "      <td>NaN</td>\n",
       "      <td>http://www.properati.com.ar/15bob_venta_depart...</td>\n",
       "      <td>Venta de departamento en décimo piso al frente...</td>\n",
       "      <td>VENTA Depto 2 dorm. a estrenar 7 e/ 36 y 37   ...</td>\n",
       "      <td>https://thumbs4.properati.com/7/ikpVBu2ztHA7jv...</td>\n",
       "    </tr>\n",
       "    <tr>\n",
       "      <th>2</th>\n",
       "      <td>2</td>\n",
       "      <td>sell</td>\n",
       "      <td>apartment</td>\n",
       "      <td>Mataderos</td>\n",
       "      <td>|Argentina|Capital Federal|Mataderos|</td>\n",
       "      <td>Argentina</td>\n",
       "      <td>Capital Federal</td>\n",
       "      <td>...</td>\n",
       "      <td>NaN</td>\n",
       "      <td>NaN</td>\n",
       "      <td>NaN</td>\n",
       "      <td>http://www.properati.com.ar/15bod_venta_depart...</td>\n",
       "      <td>2 AMBIENTES 3ER PISO LATERAL LIVING COMEDOR AM...</td>\n",
       "      <td>2 AMB 3ER PISO CON ASCENSOR APTO CREDITO</td>\n",
       "      <td>https://thumbs4.properati.com/5/SXKr34F_IwG3W_...</td>\n",
       "    </tr>\n",
       "    <tr>\n",
       "      <th>3</th>\n",
       "      <td>3</td>\n",
       "      <td>sell</td>\n",
       "      <td>PH</td>\n",
       "      <td>Liniers</td>\n",
       "      <td>|Argentina|Capital Federal|Liniers|</td>\n",
       "      <td>Argentina</td>\n",
       "      <td>Capital Federal</td>\n",
       "      <td>...</td>\n",
       "      <td>NaN</td>\n",
       "      <td>NaN</td>\n",
       "      <td>NaN</td>\n",
       "      <td>http://www.properati.com.ar/15boh_venta_ph_lin...</td>\n",
       "      <td>PH 3 ambientes con patio. Hay 3 deptos en lote...</td>\n",
       "      <td>PH 3 amb. cfte. reciclado</td>\n",
       "      <td>https://thumbs4.properati.com/3/DgIfX-85Mog5SP...</td>\n",
       "    </tr>\n",
       "    <tr>\n",
       "      <th>4</th>\n",
       "      <td>4</td>\n",
       "      <td>sell</td>\n",
       "      <td>apartment</td>\n",
       "      <td>Centro</td>\n",
       "      <td>|Argentina|Buenos Aires Costa Atlántica|Mar de...</td>\n",
       "      <td>Argentina</td>\n",
       "      <td>Buenos Aires Costa Atlántica</td>\n",
       "      <td>...</td>\n",
       "      <td>NaN</td>\n",
       "      <td>NaN</td>\n",
       "      <td>NaN</td>\n",
       "      <td>http://www.properati.com.ar/15bok_venta_depart...</td>\n",
       "      <td>DEPARTAMENTO CON FANTÁSTICA ILUMINACIÓN NATURA...</td>\n",
       "      <td>DEPTO 2 AMB AL CONTRAFRENTE ZONA CENTRO/PLAZA ...</td>\n",
       "      <td>https://thumbs4.properati.com/5/xrRqlNcSI_vs-f...</td>\n",
       "    </tr>\n",
       "    <tr>\n",
       "      <th>121215</th>\n",
       "      <td>121215</td>\n",
       "      <td>sell</td>\n",
       "      <td>apartment</td>\n",
       "      <td>Belgrano</td>\n",
       "      <td>|Argentina|Capital Federal|Belgrano|</td>\n",
       "      <td>Argentina</td>\n",
       "      <td>Capital Federal</td>\n",
       "      <td>...</td>\n",
       "      <td>NaN</td>\n",
       "      <td>NaN</td>\n",
       "      <td>10000.000</td>\n",
       "      <td>http://www.properati.com.ar/1cja2_venta_depart...</td>\n",
       "      <td>TORRE FORUM ALCORTA - MÁXIMA CATEGORÍA.Impecab...</td>\n",
       "      <td>Torre Forum Alcorta- Impecable 3 ambientes</td>\n",
       "      <td>https://thumbs4.properati.com/1/bjms0KnaAnlNoQ...</td>\n",
       "    </tr>\n",
       "    <tr>\n",
       "      <th>121216</th>\n",
       "      <td>121216</td>\n",
       "      <td>sell</td>\n",
       "      <td>house</td>\n",
       "      <td>Beccar</td>\n",
       "      <td>|Argentina|Bs.As. G.B.A. Zona Norte|San Isidro...</td>\n",
       "      <td>Argentina</td>\n",
       "      <td>Bs.As. G.B.A. Zona Norte</td>\n",
       "      <td>...</td>\n",
       "      <td>NaN</td>\n",
       "      <td>NaN</td>\n",
       "      <td>NaN</td>\n",
       "      <td>http://www.properati.com.ar/1cja6_venta_casa_b...</td>\n",
       "      <td>Excelente e impecable casa en Venta en Las Lom...</td>\n",
       "      <td>Ruca Inmuebles | Venta | Lomas de San Isidro |...</td>\n",
       "      <td>https://thumbs4.properati.com/2/PCc3WuQDjpNZc4...</td>\n",
       "    </tr>\n",
       "    <tr>\n",
       "      <th>121217</th>\n",
       "      <td>121217</td>\n",
       "      <td>sell</td>\n",
       "      <td>apartment</td>\n",
       "      <td>Villa Urquiza</td>\n",
       "      <td>|Argentina|Capital Federal|Villa Urquiza|</td>\n",
       "      <td>Argentina</td>\n",
       "      <td>Capital Federal</td>\n",
       "      <td>...</td>\n",
       "      <td>NaN</td>\n",
       "      <td>NaN</td>\n",
       "      <td>NaN</td>\n",
       "      <td>http://www.properati.com.ar/1cja7_venta_depart...</td>\n",
       "      <td>VENTA DEPARTAMENTO AMBIENTE DIVISIBLE A ESTREN...</td>\n",
       "      <td>VENTA DEPARTAMENTO AMBIENTE DIVISIBLE A ESTREN...</td>\n",
       "      <td>https://thumbs4.properati.com/9/YAe_-2gRVykADP...</td>\n",
       "    </tr>\n",
       "    <tr>\n",
       "      <th>121218</th>\n",
       "      <td>121218</td>\n",
       "      <td>sell</td>\n",
       "      <td>apartment</td>\n",
       "      <td>Plaza Colón</td>\n",
       "      <td>|Argentina|Buenos Aires Costa Atlántica|Mar de...</td>\n",
       "      <td>Argentina</td>\n",
       "      <td>Buenos Aires Costa Atlántica</td>\n",
       "      <td>...</td>\n",
       "      <td>NaN</td>\n",
       "      <td>NaN</td>\n",
       "      <td>NaN</td>\n",
       "      <td>http://www.properati.com.ar/1cja8_venta_depart...</td>\n",
       "      <td>2 Amb al contrafrente,  luminoso. El departame...</td>\n",
       "      <td>2 amb. C/ dep. de servicio al contrafrente| Re...</td>\n",
       "      <td>https://thumbs4.properati.com/8/Q12PTvU6BQJ0ib...</td>\n",
       "    </tr>\n",
       "    <tr>\n",
       "      <th>121219</th>\n",
       "      <td>121219</td>\n",
       "      <td>sell</td>\n",
       "      <td>apartment</td>\n",
       "      <td>Capital Federal</td>\n",
       "      <td>|Argentina|Capital Federal|</td>\n",
       "      <td>Argentina</td>\n",
       "      <td>Capital Federal</td>\n",
       "      <td>...</td>\n",
       "      <td>NaN</td>\n",
       "      <td>NaN</td>\n",
       "      <td>3500.000</td>\n",
       "      <td>http://www.properati.com.ar/1cjaa_venta_depart...</td>\n",
       "      <td>Departamento de 77 m2 apto profesional. Edific...</td>\n",
       "      <td>Departamento apto profesional en el Centro</td>\n",
       "      <td>https://thumbs4.properati.com/8/mNEsnQWqB7joBF...</td>\n",
       "    </tr>\n",
       "  </tbody>\n",
       "</table>\n",
       "<p>10 rows × 26 columns</p>\n",
       "</div>"
      ],
      "text/plain": [
       "        Unnamed: 0 operation property_type       place_name  \\\n",
       "0                0      sell            PH        Mataderos   \n",
       "1                1      sell     apartment         La Plata   \n",
       "2                2      sell     apartment        Mataderos   \n",
       "3                3      sell            PH          Liniers   \n",
       "4                4      sell     apartment           Centro   \n",
       "121215      121215      sell     apartment         Belgrano   \n",
       "121216      121216      sell         house           Beccar   \n",
       "121217      121217      sell     apartment    Villa Urquiza   \n",
       "121218      121218      sell     apartment      Plaza Colón   \n",
       "121219      121219      sell     apartment  Capital Federal   \n",
       "\n",
       "                                  place_with_parent_names country_name  \\\n",
       "0                   |Argentina|Capital Federal|Mataderos|    Argentina   \n",
       "1             |Argentina|Bs.As. G.B.A. Zona Sur|La Plata|    Argentina   \n",
       "2                   |Argentina|Capital Federal|Mataderos|    Argentina   \n",
       "3                     |Argentina|Capital Federal|Liniers|    Argentina   \n",
       "4       |Argentina|Buenos Aires Costa Atlántica|Mar de...    Argentina   \n",
       "121215               |Argentina|Capital Federal|Belgrano|    Argentina   \n",
       "121216  |Argentina|Bs.As. G.B.A. Zona Norte|San Isidro...    Argentina   \n",
       "121217          |Argentina|Capital Federal|Villa Urquiza|    Argentina   \n",
       "121218  |Argentina|Buenos Aires Costa Atlántica|Mar de...    Argentina   \n",
       "121219                        |Argentina|Capital Federal|    Argentina   \n",
       "\n",
       "                          state_name  ...  floor rooms  expenses  \\\n",
       "0                    Capital Federal  ...    NaN   NaN       NaN   \n",
       "1             Bs.As. G.B.A. Zona Sur  ...    NaN   NaN       NaN   \n",
       "2                    Capital Federal  ...    NaN   NaN       NaN   \n",
       "3                    Capital Federal  ...    NaN   NaN       NaN   \n",
       "4       Buenos Aires Costa Atlántica  ...    NaN   NaN       NaN   \n",
       "121215               Capital Federal  ...    NaN   NaN 10000.000   \n",
       "121216      Bs.As. G.B.A. Zona Norte  ...    NaN   NaN       NaN   \n",
       "121217               Capital Federal  ...    NaN   NaN       NaN   \n",
       "121218  Buenos Aires Costa Atlántica  ...    NaN   NaN       NaN   \n",
       "121219               Capital Federal  ...    NaN   NaN  3500.000   \n",
       "\n",
       "                                            properati_url  \\\n",
       "0       http://www.properati.com.ar/15bo8_venta_ph_mat...   \n",
       "1       http://www.properati.com.ar/15bob_venta_depart...   \n",
       "2       http://www.properati.com.ar/15bod_venta_depart...   \n",
       "3       http://www.properati.com.ar/15boh_venta_ph_lin...   \n",
       "4       http://www.properati.com.ar/15bok_venta_depart...   \n",
       "121215  http://www.properati.com.ar/1cja2_venta_depart...   \n",
       "121216  http://www.properati.com.ar/1cja6_venta_casa_b...   \n",
       "121217  http://www.properati.com.ar/1cja7_venta_depart...   \n",
       "121218  http://www.properati.com.ar/1cja8_venta_depart...   \n",
       "121219  http://www.properati.com.ar/1cjaa_venta_depart...   \n",
       "\n",
       "                                              description  \\\n",
       "0       2 AMBIENTES TIPO CASA PLANTA BAJA POR PASILLO,...   \n",
       "1       Venta de departamento en décimo piso al frente...   \n",
       "2       2 AMBIENTES 3ER PISO LATERAL LIVING COMEDOR AM...   \n",
       "3       PH 3 ambientes con patio. Hay 3 deptos en lote...   \n",
       "4       DEPARTAMENTO CON FANTÁSTICA ILUMINACIÓN NATURA...   \n",
       "121215  TORRE FORUM ALCORTA - MÁXIMA CATEGORÍA.Impecab...   \n",
       "121216  Excelente e impecable casa en Venta en Las Lom...   \n",
       "121217  VENTA DEPARTAMENTO AMBIENTE DIVISIBLE A ESTREN...   \n",
       "121218  2 Amb al contrafrente,  luminoso. El departame...   \n",
       "121219  Departamento de 77 m2 apto profesional. Edific...   \n",
       "\n",
       "                                                    title  \\\n",
       "0                      2 AMB TIPO CASA SIN EXPENSAS EN PB   \n",
       "1       VENTA Depto 2 dorm. a estrenar 7 e/ 36 y 37   ...   \n",
       "2                2 AMB 3ER PISO CON ASCENSOR APTO CREDITO   \n",
       "3                            PH 3 amb. cfte. reciclado      \n",
       "4       DEPTO 2 AMB AL CONTRAFRENTE ZONA CENTRO/PLAZA ...   \n",
       "121215         Torre Forum Alcorta- Impecable 3 ambientes   \n",
       "121216  Ruca Inmuebles | Venta | Lomas de San Isidro |...   \n",
       "121217  VENTA DEPARTAMENTO AMBIENTE DIVISIBLE A ESTREN...   \n",
       "121218  2 amb. C/ dep. de servicio al contrafrente| Re...   \n",
       "121219         Departamento apto profesional en el Centro   \n",
       "\n",
       "                                          image_thumbnail  \n",
       "0       https://thumbs4.properati.com/8/BluUYiHJLhgIIK...  \n",
       "1       https://thumbs4.properati.com/7/ikpVBu2ztHA7jv...  \n",
       "2       https://thumbs4.properati.com/5/SXKr34F_IwG3W_...  \n",
       "3       https://thumbs4.properati.com/3/DgIfX-85Mog5SP...  \n",
       "4       https://thumbs4.properati.com/5/xrRqlNcSI_vs-f...  \n",
       "121215  https://thumbs4.properati.com/1/bjms0KnaAnlNoQ...  \n",
       "121216  https://thumbs4.properati.com/2/PCc3WuQDjpNZc4...  \n",
       "121217  https://thumbs4.properati.com/9/YAe_-2gRVykADP...  \n",
       "121218  https://thumbs4.properati.com/8/Q12PTvU6BQJ0ib...  \n",
       "121219  https://thumbs4.properati.com/8/mNEsnQWqB7joBF...  \n",
       "\n",
       "[10 rows x 26 columns]"
      ]
     },
     "execution_count": 210,
     "metadata": {},
     "output_type": "execute_result"
    }
   ],
   "source": [
    "df_preview = pd.concat([df.head(5), df.tail(5)])\n",
    "df_preview"
   ]
  },
  {
   "cell_type": "markdown",
   "metadata": {},
   "source": [
    "<br> Con un pedido de atributo columns generamos una lista de todas las columnas presentes. <br>"
   ]
  },
  {
   "cell_type": "code",
   "execution_count": 211,
   "metadata": {},
   "outputs": [
    {
     "data": {
      "text/plain": [
       "Index(['Unnamed: 0', 'operation', 'property_type', 'place_name',\n",
       "       'place_with_parent_names', 'country_name', 'state_name', 'geonames_id',\n",
       "       'lat-lon', 'lat', 'lon', 'price', 'currency',\n",
       "       'price_aprox_local_currency', 'price_aprox_usd', 'surface_total_in_m2',\n",
       "       'surface_covered_in_m2', 'price_usd_per_m2', 'price_per_m2', 'floor',\n",
       "       'rooms', 'expenses', 'properati_url', 'description', 'title',\n",
       "       'image_thumbnail'],\n",
       "      dtype='object')"
      ]
     },
     "execution_count": 211,
     "metadata": {},
     "output_type": "execute_result"
    }
   ],
   "source": [
    "df.columns"
   ]
  },
  {
   "cell_type": "markdown",
   "metadata": {},
   "source": [
    "<br>"
   ]
  },
  {
   "cell_type": "markdown",
   "metadata": {},
   "source": [
    "<br>Al parecer contamos con dos columnas index debido a que el archivo csv incluía una columna de índice sin label. Esta columna es una primera candidata para ser eliminada, pero antes de proceder es necesario validar que efectivamente hay un match 1:1 entre ambas.\n",
    "La validación mediante indexado booleano desmuestra que no parece haber ningún valor donde el índice del dataset no coincida con el índice genero al crear el dataframe, así que procedemos a su eliminación.<br>"
   ]
  },
  {
   "cell_type": "code",
   "execution_count": 212,
   "metadata": {},
   "outputs": [
    {
     "data": {
      "text/html": [
       "<div>\n",
       "<style scoped>\n",
       "    .dataframe tbody tr th:only-of-type {\n",
       "        vertical-align: middle;\n",
       "    }\n",
       "\n",
       "    .dataframe tbody tr th {\n",
       "        vertical-align: top;\n",
       "    }\n",
       "\n",
       "    .dataframe thead th {\n",
       "        text-align: right;\n",
       "    }\n",
       "</style>\n",
       "<table border=\"1\" class=\"dataframe\">\n",
       "  <thead>\n",
       "    <tr style=\"text-align: right;\">\n",
       "      <th></th>\n",
       "      <th>Unnamed: 0</th>\n",
       "      <th>operation</th>\n",
       "      <th>property_type</th>\n",
       "      <th>place_name</th>\n",
       "      <th>place_with_parent_names</th>\n",
       "      <th>country_name</th>\n",
       "      <th>state_name</th>\n",
       "      <th>...</th>\n",
       "      <th>floor</th>\n",
       "      <th>rooms</th>\n",
       "      <th>expenses</th>\n",
       "      <th>properati_url</th>\n",
       "      <th>description</th>\n",
       "      <th>title</th>\n",
       "      <th>image_thumbnail</th>\n",
       "    </tr>\n",
       "  </thead>\n",
       "  <tbody>\n",
       "  </tbody>\n",
       "</table>\n",
       "<p>0 rows × 26 columns</p>\n",
       "</div>"
      ],
      "text/plain": [
       "Empty DataFrame\n",
       "Columns: [Unnamed: 0, operation, property_type, place_name, place_with_parent_names, country_name, state_name, geonames_id, lat-lon, lat, lon, price, currency, price_aprox_local_currency, price_aprox_usd, surface_total_in_m2, surface_covered_in_m2, price_usd_per_m2, price_per_m2, floor, rooms, expenses, properati_url, description, title, image_thumbnail]\n",
       "Index: []\n",
       "\n",
       "[0 rows x 26 columns]"
      ]
     },
     "execution_count": 212,
     "metadata": {},
     "output_type": "execute_result"
    }
   ],
   "source": [
    "df[df['Unnamed: 0'] != df.index]"
   ]
  },
  {
   "cell_type": "code",
   "execution_count": 213,
   "metadata": {},
   "outputs": [],
   "source": [
    "if 'Unnamed: 0' in df.columns:\n",
    "    df = df.drop(columns=['Unnamed: 0'])"
   ]
  },
  {
   "cell_type": "markdown",
   "metadata": {},
   "source": [
    "<br>"
   ]
  },
  {
   "cell_type": "markdown",
   "metadata": {},
   "source": [
    "<br>Una observación rápida de las columnas properati_url e image_thumbnail parece indicar que se tratan de columnas relacionadas con la aplicación de donde fueron extraídos los datos. Dado que no cumplen ninguna función procedemos a eliminar ambas.<br>"
   ]
  },
  {
   "cell_type": "code",
   "execution_count": 214,
   "metadata": {},
   "outputs": [],
   "source": [
    "df.drop(columns=['properati_url', 'image_thumbnail'], inplace=True)"
   ]
  },
  {
   "cell_type": "markdown",
   "metadata": {},
   "source": [
    "<br>"
   ]
  },
  {
   "cell_type": "markdown",
   "metadata": {},
   "source": [
    "<br>"
   ]
  },
  {
   "cell_type": "markdown",
   "metadata": {},
   "source": [
    "### Control y eliminación de duplicados <br>"
   ]
  },
  {
   "cell_type": "markdown",
   "metadata": {},
   "source": [
    "Auditamos la presencia de duplicados y procedemos a resolverlos."
   ]
  },
  {
   "cell_type": "code",
   "execution_count": 215,
   "metadata": {},
   "outputs": [
    {
     "name": "stdout",
     "output_type": "stream",
     "text": [
      "De un total de 5080, 0 no fueron resueltos. Los duplicados representaban un 4% de entradas del dataset.\n"
     ]
    }
   ],
   "source": [
    "# Realizamos un recuento de duplicidad\n",
    "dataframer_shape = df.shape[0]\n",
    "duplicates_count = df.duplicated().sum()\n",
    "\n",
    "\n",
    "# Dropeamos los duplicados\n",
    "df.drop_duplicates(inplace=True)\n",
    "\n",
    "\n",
    "print(f'De un total de {duplicates_count}, {df.duplicated().sum()} no fueron resueltos. Los duplicados representaban un {round(duplicates_count / dataframer_shape * 100)}% de entradas del dataset.')"
   ]
  },
  {
   "cell_type": "markdown",
   "metadata": {},
   "source": [
    "<br>"
   ]
  },
  {
   "cell_type": "markdown",
   "metadata": {},
   "source": [
    "<br>"
   ]
  },
  {
   "cell_type": "markdown",
   "metadata": {},
   "source": [
    "### Tipo de datos y variables <br>"
   ]
  },
  {
   "cell_type": "markdown",
   "metadata": {},
   "source": [
    " Como es estandar en este tipo de procesos de limpieza, utilizamos el método dataframe.info para observar las columnas presentes, su conteo de no nulos y su tipo de datos. Sin embargo el formato tabla no permite análisis más profundo ni detalla si las columnas son categoricas o no. "
   ]
  },
  {
   "cell_type": "code",
   "execution_count": 216,
   "metadata": {},
   "outputs": [
    {
     "name": "stdout",
     "output_type": "stream",
     "text": [
      "<class 'pandas.core.frame.DataFrame'>\n",
      "Int64Index: 116140 entries, 0 to 121219\n",
      "Data columns (total 23 columns):\n",
      " #   Column                      Non-Null Count   Dtype  \n",
      "---  ------                      --------------   -----  \n",
      " 0   operation                   116140 non-null  object \n",
      " 1   property_type               116140 non-null  object \n",
      " 2   place_name                  116117 non-null  object \n",
      " 3   place_with_parent_names     116140 non-null  object \n",
      " 4   country_name                116140 non-null  object \n",
      " 5   state_name                  116140 non-null  object \n",
      " 6   geonames_id                 97960 non-null   float64\n",
      " 7   lat-lon                     67851 non-null   object \n",
      " 8   lat                         67851 non-null   float64\n",
      " 9   lon                         67851 non-null   float64\n",
      " 10  price                       98584 non-null   float64\n",
      " 11  currency                    98583 non-null   object \n",
      " 12  price_aprox_local_currency  98584 non-null   float64\n",
      " 13  price_aprox_usd             98584 non-null   float64\n",
      " 14  surface_total_in_m2         77762 non-null   float64\n",
      " 15  surface_covered_in_m2       97287 non-null   float64\n",
      " 16  price_usd_per_m2            66851 non-null   float64\n",
      " 17  price_per_m2                85697 non-null   float64\n",
      " 18  floor                       7659 non-null    float64\n",
      " 19  rooms                       46199 non-null   float64\n",
      " 20  expenses                    14085 non-null   float64\n",
      " 21  description                 116138 non-null  object \n",
      " 22  title                       116140 non-null  object \n",
      "dtypes: float64(13), object(10)\n",
      "memory usage: 21.3+ MB\n"
     ]
    }
   ],
   "source": [
    "df.info()"
   ]
  },
  {
   "cell_type": "markdown",
   "metadata": {},
   "source": [
    "<br>"
   ]
  },
  {
   "cell_type": "markdown",
   "metadata": {},
   "source": [
    "Con esas limitaciones en mente, desarrollamos una función que utilizaremos de forma constante para controlar la evolución de nuestros datos durante el proceso de limpieza. En esta se eflejan los tipos de datos, su distribución y numero de columnas.\n",
    "\n",
    "A partir de este pequeño dashboard observamos que: <br>\n",
    "<li>Hay un total de 19 columnas.\n",
    "<li>Sus tipos de datos (str, float e int) se encuentran balanceados. \n",
    "<li>La mayoría de las variables son de tipo númerica.\n",
    "<li>Hay un número no despreciable de variables indeterminadas, probablemente producto de tener valores concatenados.\n",
    "<li>Si bien observamos presencia de variables de tipo booleanas, estas solo fueron clasificadas como tal por tener un solo valor, es decir, por ser constantes.\n",
    "</li> <br>"
   ]
  },
  {
   "cell_type": "code",
   "execution_count": 217,
   "metadata": {},
   "outputs": [
    {
     "data": {
      "image/png": "[encoded data removed]"
     },
     "metadata": {},
     "output_type": "display_data"
    }
   ],
   "source": [
    "fig = table_dtype(df, rtn=False)\n",
    "fig.show('png')"
   ]
  },
  {
   "cell_type": "markdown",
   "metadata": {},
   "source": [
    "<br>"
   ]
  },
  {
   "cell_type": "markdown",
   "metadata": {},
   "source": [
    "## Analisis de variables catégoricas <br>"
   ]
  },
  {
   "cell_type": "markdown",
   "metadata": {},
   "source": [
    "Para reducir el length de nuestro dataset una de las primeras acciones que podemos tomar es encontrar variables categóricas y entre estas aquellas que sean constantes, es decir que no muestren ninguna variabilidad dentro de la serie.\n",
    "Para esto utilizamos la función <i>viz_categorical</i> que comentamos en el apartado de funciones.\n",
    "\n",
    "Observamos que:\n",
    "<ul>\n",
    "  <li>Contamos con un número reducido de variables categóricas.</li>\n",
    "  <li>De estas, <i>operation</i> y <i>country_name</i> son constantes y deberan ser eliminadas dado que no tienen ningún valor predictivo sobre nuestra variable target </li>\n",
    "  <li>La variable <i>property_type</i> se encuentra desbalanceada para algunas de las categorías. Una posible solución seria simplificar la clasificación en <i>apartment</i> y <i>other</i> en referencia a otro tipo de edificación</li>\n",
    "  <li>Por otro lado, <i>currency</i> cuenta con outliers representados por PEN y UYU. Además ARS representa una porción muy baja de los registros. Lo mejor es realizar una conversión a USD de la variable precio para asegurar la consistencia y eliminar esta columna.</li>\n",
    "</ul><br>"
   ]
  },
  {
   "cell_type": "code",
   "execution_count": 218,
   "metadata": {},
   "outputs": [
    {
     "data": {
      "image/png": "[encoded data removed]",
      "text/plain": [
       "<Figure size 1080x720 with 6 Axes>"
      ]
     },
     "metadata": {},
     "output_type": "display_data"
    }
   ],
   "source": [
    "viz_categorical(df)"
   ]
  },
  {
   "cell_type": "markdown",
   "metadata": {},
   "source": [
    "<br>"
   ]
  },
  {
   "cell_type": "markdown",
   "metadata": {},
   "source": [
    "Para eliminar las constantes usaremos un one-liner / lambda function que representa la función a continuacion:\n",
    "\n",
    "```python\n",
    "def constant_check(dataframe):\n",
    "    if isinstance(dataframe, pd.DataFrame) is True:\n",
    "        for column in dataframe.columns:\n",
    "            if len(dataframe[column].value_counts().index) == 1:\n",
    "                dataframe = dataframe.drop(columns=[column])\n",
    "\n",
    "    return dataframe\n",
    "```"
   ]
  },
  {
   "cell_type": "code",
   "execution_count": 219,
   "metadata": {},
   "outputs": [],
   "source": [
    "# Lambda function que realiza eliminación de series constantes\n",
    "constant_check = lambda dataframe:  dataframe.drop(columns=[column for column in dataframe.columns if len(dataframe[column].value_counts().index) == 1]) if isinstance(dataframe, pd.DataFrame) is True else 'Not a dataframe'\n",
    "\n",
    "\n",
    "# Realizamos la transformación\n",
    "df = constant_check(df)"
   ]
  },
  {
   "cell_type": "markdown",
   "metadata": {},
   "source": [
    "<br>"
   ]
  },
  {
   "cell_type": "markdown",
   "metadata": {},
   "source": [
    "### Correcciones en price y currency"
   ]
  },
  {
   "cell_type": "markdown",
   "metadata": {},
   "source": [
    "Como adelantabamos, podemos excluir del dataset la columna <i>currency</i> si convertimos el precio de las monedas ARS, UYU, PES a su correspondiente en USD. Además, la conversión es necesaria para reducir el ruido que estos valores generarán en el modelo. Para esto empleamos la función <b>historical_currency_data</b> para calcular el tipo de cambio promedio para cada una de las monedas durante 2018. <br>\n",
    "En el dataframe de comprobación nos permite comparar que la conversación coincide con el valor aproximado para PEN, pero hay una notoria discrepancia para UYU y ARS, en este último caso debido a la depreciación del peso frente al dolar durante el trancurso de ese año.\n",
    "<br>"
   ]
  },
  {
   "cell_type": "code",
   "execution_count": 220,
   "metadata": {},
   "outputs": [
    {
     "data": {
      "text/html": [
       "<div>\n",
       "<style scoped>\n",
       "    .dataframe tbody tr th:only-of-type {\n",
       "        vertical-align: middle;\n",
       "    }\n",
       "\n",
       "    .dataframe tbody tr th {\n",
       "        vertical-align: top;\n",
       "    }\n",
       "\n",
       "    .dataframe thead th {\n",
       "        text-align: right;\n",
       "    }\n",
       "</style>\n",
       "<table border=\"1\" class=\"dataframe\">\n",
       "  <thead>\n",
       "    <tr style=\"text-align: right;\">\n",
       "      <th></th>\n",
       "      <th>price</th>\n",
       "      <th>currency</th>\n",
       "      <th>price_aprox_usd</th>\n",
       "    </tr>\n",
       "  </thead>\n",
       "  <tbody>\n",
       "    <tr>\n",
       "      <th>50387</th>\n",
       "      <td>116081.176</td>\n",
       "      <td>PEN</td>\n",
       "      <td>117139.330</td>\n",
       "    </tr>\n",
       "    <tr>\n",
       "      <th>50388</th>\n",
       "      <td>290202.940</td>\n",
       "      <td>PEN</td>\n",
       "      <td>292848.330</td>\n",
       "    </tr>\n",
       "    <tr>\n",
       "      <th>107390</th>\n",
       "      <td>21689297.581</td>\n",
       "      <td>UYU</td>\n",
       "      <td>22980378.290</td>\n",
       "    </tr>\n",
       "    <tr>\n",
       "      <th>9</th>\n",
       "      <td>16696.628</td>\n",
       "      <td>ARS</td>\n",
       "      <td>25798.490</td>\n",
       "    </tr>\n",
       "    <tr>\n",
       "      <th>32</th>\n",
       "      <td>19963.359</td>\n",
       "      <td>ARS</td>\n",
       "      <td>30846.020</td>\n",
       "    </tr>\n",
       "    <tr>\n",
       "      <th>37</th>\n",
       "      <td>45371.271</td>\n",
       "      <td>ARS</td>\n",
       "      <td>70104.590</td>\n",
       "    </tr>\n",
       "  </tbody>\n",
       "</table>\n",
       "</div>"
      ],
      "text/plain": [
       "              price currency  price_aprox_usd\n",
       "50387    116081.176      PEN       117139.330\n",
       "50388    290202.940      PEN       292848.330\n",
       "107390 21689297.581      UYU     22980378.290\n",
       "9         16696.628      ARS        25798.490\n",
       "32        19963.359      ARS        30846.020\n",
       "37        45371.271      ARS        70104.590"
      ]
     },
     "execution_count": 220,
     "metadata": {},
     "output_type": "execute_result"
    }
   ],
   "source": [
    "def compare_currency_rates(year, month_s, month_e):\n",
    "    \n",
    "    # Con dict comprehension generamos un diccionario con los tipos de cambio promedios para cada moneda\n",
    "    currency_dict = {currency:historical_currency_data(year,month_s,month_e,currency)['rate'].mean() for currency in df['currency'][(df['currency']!='USD') & (df['currency'].isna()==False)].value_counts().index.tolist()}\n",
    "\n",
    "\n",
    "    # Creamos una máscara para filtrar USD y nulos del dataframe principal\n",
    "    df_no_usd_and_null = (df['currency']!='USD') & (df['currency'].isna()==False)\n",
    "    \n",
    "    \n",
    "    # Filtramos el dataframe para excluir nulos y los valores de price que corresponden a la moneda USD\n",
    "    temp_df = df[df_no_usd_and_null]\n",
    "\n",
    "\n",
    "    # Alteramos el dataframe original con la conversión correcta\n",
    "    for currency, index, price in zip(temp_df['currency'], temp_df.index, temp_df['price']):\n",
    "        temp_df['price'].loc[index] = price / currency_dict[currency]\n",
    "\n",
    "\n",
    "\n",
    "    # Mascaras para el filtrado del dataframe de comprobación\n",
    "    test_df_no_usd_and_null = (temp_df['currency']!='USD') & (temp_df['currency'].isna()==False)\n",
    "    test_df_no_usd_ars_and_null = (temp_df['currency']!='USD') & (temp_df['currency']!='ARS') & (temp_df['currency'].isnull()==False)\n",
    "\n",
    "\n",
    "    # Generamos el dataframe de comprobación\n",
    "    temp_df = temp_df[['price', 'currency', 'price_aprox_usd']].convert_dtypes()\n",
    "\n",
    "\n",
    "\n",
    "    return pd.concat([temp_df[test_df_no_usd_ars_and_null], temp_df[test_df_no_usd_and_null].head(3)])\n",
    "\n",
    "\n",
    "compare_currency_rates(2018, 1, 12)"
   ]
  },
  {
   "cell_type": "markdown",
   "metadata": {},
   "source": [
    "<br> Tomando los valores sólo el tipo de cambio medio de enero, obtenemos valores mas acordes para ARS pero con crecientes diferencias en relación a PES."
   ]
  },
  {
   "cell_type": "code",
   "execution_count": 221,
   "metadata": {},
   "outputs": [
    {
     "data": {
      "text/html": [
       "<div>\n",
       "<style scoped>\n",
       "    .dataframe tbody tr th:only-of-type {\n",
       "        vertical-align: middle;\n",
       "    }\n",
       "\n",
       "    .dataframe tbody tr th {\n",
       "        vertical-align: top;\n",
       "    }\n",
       "\n",
       "    .dataframe thead th {\n",
       "        text-align: right;\n",
       "    }\n",
       "</style>\n",
       "<table border=\"1\" class=\"dataframe\">\n",
       "  <thead>\n",
       "    <tr style=\"text-align: right;\">\n",
       "      <th></th>\n",
       "      <th>price</th>\n",
       "      <th>currency</th>\n",
       "      <th>price_aprox_usd</th>\n",
       "    </tr>\n",
       "  </thead>\n",
       "  <tbody>\n",
       "    <tr>\n",
       "      <th>50387</th>\n",
       "      <td>120620.178</td>\n",
       "      <td>PEN</td>\n",
       "      <td>117139.330</td>\n",
       "    </tr>\n",
       "    <tr>\n",
       "      <th>50388</th>\n",
       "      <td>301550.445</td>\n",
       "      <td>PEN</td>\n",
       "      <td>292848.330</td>\n",
       "    </tr>\n",
       "    <tr>\n",
       "      <th>107390</th>\n",
       "      <td>23007449.564</td>\n",
       "      <td>UYU</td>\n",
       "      <td>22980378.290</td>\n",
       "    </tr>\n",
       "    <tr>\n",
       "      <th>9</th>\n",
       "      <td>24711.633</td>\n",
       "      <td>ARS</td>\n",
       "      <td>25798.490</td>\n",
       "    </tr>\n",
       "    <tr>\n",
       "      <th>32</th>\n",
       "      <td>29546.517</td>\n",
       "      <td>ARS</td>\n",
       "      <td>30846.020</td>\n",
       "    </tr>\n",
       "    <tr>\n",
       "      <th>37</th>\n",
       "      <td>67151.176</td>\n",
       "      <td>ARS</td>\n",
       "      <td>70104.590</td>\n",
       "    </tr>\n",
       "  </tbody>\n",
       "</table>\n",
       "</div>"
      ],
      "text/plain": [
       "              price currency  price_aprox_usd\n",
       "50387    120620.178      PEN       117139.330\n",
       "50388    301550.445      PEN       292848.330\n",
       "107390 23007449.564      UYU     22980378.290\n",
       "9         24711.633      ARS        25798.490\n",
       "32        29546.517      ARS        30846.020\n",
       "37        67151.176      ARS        70104.590"
      ]
     },
     "execution_count": 221,
     "metadata": {},
     "output_type": "execute_result"
    }
   ],
   "source": [
    "compare_currency_rates(2018, 1, 1)"
   ]
  },
  {
   "cell_type": "markdown",
   "metadata": {},
   "source": [
    "<br> Realizando una breve comprobación de correlación de nulos entre ambas features y nos encontramos que la relación es 1:1. A partir de esto podemos decir con seguridad que es posible realizar un reemplazo de price como variable target por price_aprox_usd y esto mantendrá el modelo vigente a la fecha sin ser necesario generar conversiones ni conservar la columna currency.\n",
    "<br>"
   ]
  },
  {
   "cell_type": "code",
   "execution_count": 222,
   "metadata": {},
   "outputs": [
    {
     "data": {
      "text/plain": [
       "(17556, 17556)"
      ]
     },
     "execution_count": 222,
     "metadata": {},
     "output_type": "execute_result"
    }
   ],
   "source": [
    "df['price'].isna().sum(), df['price_aprox_usd'].isna().sum()"
   ]
  },
  {
   "cell_type": "code",
   "execution_count": 223,
   "metadata": {},
   "outputs": [
    {
     "data": {
      "text/plain": [
       "<AxesSubplot:>"
      ]
     },
     "execution_count": 223,
     "metadata": {},
     "output_type": "execute_result"
    },
    {
     "data": {
      "image/png": "[encoded data removed]",
      "text/plain": [
       "<Figure size 432x288 with 2 Axes>"
      ]
     },
     "metadata": {},
     "output_type": "display_data"
    }
   ],
   "source": [
    "sn.heatmap(df[['price', 'price_aprox_usd']].isnull())\n"
   ]
  },
  {
   "cell_type": "code",
   "execution_count": 224,
   "metadata": {},
   "outputs": [],
   "source": [
    "# Dropeamos las columnas mencionadas\n",
    "df.drop(['price', 'currency'], axis=1, inplace=True)\n",
    "\n",
    "\n",
    "# Renombramos price_aprox_usd a price_usd\n",
    "df.rename({'price_aprox_usd':'price_usd'}, inplace=True, axis=1)"
   ]
  },
  {
   "cell_type": "markdown",
   "metadata": {},
   "source": [
    "<br>"
   ]
  },
  {
   "cell_type": "markdown",
   "metadata": {},
   "source": [
    "<br>"
   ]
  },
  {
   "cell_type": "markdown",
   "metadata": {},
   "source": [
    "<br>"
   ]
  },
  {
   "cell_type": "markdown",
   "metadata": {},
   "source": [
    "## Exploración de NaNs <br>"
   ]
  },
  {
   "cell_type": "markdown",
   "metadata": {},
   "source": [
    "Otro paso importante de análisis es el recuento de nulos, su distribución y el proceso de imputarlos. Para esto ploteamos primero la suma de todos los camos nulos en relación a aquellos válidos. De este primer análisis se desprende que un 22% (400.000+) campos son nulos."
   ]
  },
  {
   "cell_type": "code",
   "execution_count": 225,
   "metadata": {},
   "outputs": [
    {
     "data": {
      "image/png": "[encoded data removed]"
     },
     "metadata": {},
     "output_type": "display_data"
    }
   ],
   "source": [
    "fig_pieplot = px.pie(\n",
    "    labels=['NaN', 'Not NaN'],\n",
    "    values=[df.isnull().sum().sum(), \n",
    "    df.shape[0]*df.shape[1]-df.isnull().sum().sum()], \n",
    "    width=600, height=400, \n",
    "    names=['Nan', 'Not NaN'], \n",
    "    title='Nulls vs Valid values', \n",
    "    hole=0.5)\n",
    "\n",
    "fig_pieplot.show('png')"
   ]
  },
  {
   "cell_type": "markdown",
   "metadata": {},
   "source": [
    "<br>"
   ]
  },
  {
   "cell_type": "markdown",
   "metadata": {},
   "source": [
    "Luego ploteamos su distribución por columnas. De estas se destacan floor, rooms y expensas con el mayor recuento de nulos."
   ]
  },
  {
   "cell_type": "code",
   "execution_count": 226,
   "metadata": {},
   "outputs": [
    {
     "data": {
      "application/vnd.plotly.v1+json": {
       "config": {
        "plotlyServerURL": "https://plot.ly"
       },
       "data": [
        {
         "alignmentgroup": "True",
         "hovertemplate": "x=%{x}<br>y=%{y}<extra></extra>",
         "legendgroup": "",
         "marker": {
          "color": "#636efa",
          "pattern": {
           "shape": ""
          }
         },
         "name": "",
         "offsetgroup": "",
         "orientation": "v",
         "showlegend": false,
         "textposition": "auto",
         "type": "bar",
         "x": [
          "property_type",
          "place_name",
          "place_with_parent_names",
          "state_name",
          "geonames_id",
          "lat-lon",
          "lat",
          "lon",
          "price_aprox_local_currency",
          "price_usd",
          "surface_total_in_m2",
          "surface_covered_in_m2",
          "price_usd_per_m2",
          "price_per_m2",
          "floor",
          "rooms",
          "expenses",
          "description",
          "title"
         ],
         "xaxis": "x",
         "y": [
          0,
          23,
          0,
          0,
          18180,
          48289,
          48289,
          48289,
          17556,
          17556,
          38378,
          18853,
          49289,
          30443,
          108481,
          69941,
          102055,
          2,
          0
         ],
         "yaxis": "y"
        }
       ],
       "layout": {
        "barmode": "relative",
        "height": 400,
        "legend": {
         "tracegroupgap": 0
        },
        "margin": {
         "t": 60
        },
        "template": {
         "data": {
          "bar": [
           {
            "error_x": {
             "color": "#2a3f5f"
            },
            "error_y": {
             "color": "#2a3f5f"
            },
            "marker": {
             "line": {
              "color": "#E5ECF6",
              "width": 0.5
             },
             "pattern": {
              "fillmode": "overlay",
              "size": 10,
              "solidity": 0.2
             }
            },
            "type": "bar"
           }
          ],
          "barpolar": [
           {
            "marker": {
             "line": {
              "color": "#E5ECF6",
              "width": 0.5
             },
             "pattern": {
              "fillmode": "overlay",
              "size": 10,
              "solidity": 0.2
             }
            },
            "type": "barpolar"
           }
          ],
          "carpet": [
           {
            "aaxis": {
             "endlinecolor": "#2a3f5f",
             "gridcolor": "white",
             "linecolor": "white",
             "minorgridcolor": "white",
             "startlinecolor": "#2a3f5f"
            },
            "baxis": {
             "endlinecolor": "#2a3f5f",
             "gridcolor": "white",
             "linecolor": "white",
             "minorgridcolor": "white",
             "startlinecolor": "#2a3f5f"
            },
            "type": "carpet"
           }
          ],
          "choropleth": [
           {
            "colorbar": {
             "outlinewidth": 0,
             "ticks": ""
            },
            "type": "choropleth"
           }
          ],
          "contour": [
           {
            "colorbar": {
             "outlinewidth": 0,
             "ticks": ""
            },
            "colorscale": [
             [
              0,
              "#0d0887"
             ],
             [
              0.1111111111111111,
              "#46039f"
             ],
             [
              0.2222222222222222,
              "#7201a8"
             ],
             [
              0.3333333333333333,
              "#9c179e"
             ],
             [
              0.4444444444444444,
              "#bd3786"
             ],
             [
              0.5555555555555556,
              "#d8576b"
             ],
             [
              0.6666666666666666,
              "#ed7953"
             ],
             [
              0.7777777777777778,
              "#fb9f3a"
             ],
             [
              0.8888888888888888,
              "#fdca26"
             ],
             [
              1,
              "#f0f921"
             ]
            ],
            "type": "contour"
           }
          ],
          "contourcarpet": [
           {
            "colorbar": {
             "outlinewidth": 0,
             "ticks": ""
            },
            "type": "contourcarpet"
           }
          ],
          "heatmap": [
           {
            "colorbar": {
             "outlinewidth": 0,
             "ticks": ""
            },
            "colorscale": [
             [
              0,
              "#0d0887"
             ],
             [
              0.1111111111111111,
              "#46039f"
             ],
             [
              0.2222222222222222,
              "#7201a8"
             ],
             [
              0.3333333333333333,
              "#9c179e"
             ],
             [
              0.4444444444444444,
              "#bd3786"
             ],
             [
              0.5555555555555556,
              "#d8576b"
             ],
             [
              0.6666666666666666,
              "#ed7953"
             ],
             [
              0.7777777777777778,
              "#fb9f3a"
             ],
             [
              0.8888888888888888,
              "#fdca26"
             ],
             [
              1,
              "#f0f921"
             ]
            ],
            "type": "heatmap"
           }
          ],
          "heatmapgl": [
           {
            "colorbar": {
             "outlinewidth": 0,
             "ticks": ""
            },
            "colorscale": [
             [
              0,
              "#0d0887"
             ],
             [
              0.1111111111111111,
              "#46039f"
             ],
             [
              0.2222222222222222,
              "#7201a8"
             ],
             [
              0.3333333333333333,
              "#9c179e"
             ],
             [
              0.4444444444444444,
              "#bd3786"
             ],
             [
              0.5555555555555556,
              "#d8576b"
             ],
             [
              0.6666666666666666,
              "#ed7953"
             ],
             [
              0.7777777777777778,
              "#fb9f3a"
             ],
             [
              0.8888888888888888,
              "#fdca26"
             ],
             [
              1,
              "#f0f921"
             ]
            ],
            "type": "heatmapgl"
           }
          ],
          "histogram": [
           {
            "marker": {
             "pattern": {
              "fillmode": "overlay",
              "size": 10,
              "solidity": 0.2
             }
            },
            "type": "histogram"
           }
          ],
          "histogram2d": [
           {
            "colorbar": {
             "outlinewidth": 0,
             "ticks": ""
            },
            "colorscale": [
             [
              0,
              "#0d0887"
             ],
             [
              0.1111111111111111,
              "#46039f"
             ],
             [
              0.2222222222222222,
              "#7201a8"
             ],
             [
              0.3333333333333333,
              "#9c179e"
             ],
             [
              0.4444444444444444,
              "#bd3786"
             ],
             [
              0.5555555555555556,
              "#d8576b"
             ],
             [
              0.6666666666666666,
              "#ed7953"
             ],
             [
              0.7777777777777778,
              "#fb9f3a"
             ],
             [
              0.8888888888888888,
              "#fdca26"
             ],
             [
              1,
              "#f0f921"
             ]
            ],
            "type": "histogram2d"
           }
          ],
          "histogram2dcontour": [
           {
            "colorbar": {
             "outlinewidth": 0,
             "ticks": ""
            },
            "colorscale": [
             [
              0,
              "#0d0887"
             ],
             [
              0.1111111111111111,
              "#46039f"
             ],
             [
              0.2222222222222222,
              "#7201a8"
             ],
             [
              0.3333333333333333,
              "#9c179e"
             ],
             [
              0.4444444444444444,
              "#bd3786"
             ],
             [
              0.5555555555555556,
              "#d8576b"
             ],
             [
              0.6666666666666666,
              "#ed7953"
             ],
             [
              0.7777777777777778,
              "#fb9f3a"
             ],
             [
              0.8888888888888888,
              "#fdca26"
             ],
             [
              1,
              "#f0f921"
             ]
            ],
            "type": "histogram2dcontour"
           }
          ],
          "mesh3d": [
           {
            "colorbar": {
             "outlinewidth": 0,
             "ticks": ""
            },
            "type": "mesh3d"
           }
          ],
          "parcoords": [
           {
            "line": {
             "colorbar": {
              "outlinewidth": 0,
              "ticks": ""
             }
            },
            "type": "parcoords"
           }
          ],
          "pie": [
           {
            "automargin": true,
            "type": "pie"
           }
          ],
          "scatter": [
           {
            "marker": {
             "colorbar": {
              "outlinewidth": 0,
              "ticks": ""
             }
            },
            "type": "scatter"
           }
          ],
          "scatter3d": [
           {
            "line": {
             "colorbar": {
              "outlinewidth": 0,
              "ticks": ""
             }
            },
            "marker": {
             "colorbar": {
              "outlinewidth": 0,
              "ticks": ""
             }
            },
            "type": "scatter3d"
           }
          ],
          "scattercarpet": [
           {
            "marker": {
             "colorbar": {
              "outlinewidth": 0,
              "ticks": ""
             }
            },
            "type": "scattercarpet"
           }
          ],
          "scattergeo": [
           {
            "marker": {
             "colorbar": {
              "outlinewidth": 0,
              "ticks": ""
             }
            },
            "type": "scattergeo"
           }
          ],
          "scattergl": [
           {
            "marker": {
             "colorbar": {
              "outlinewidth": 0,
              "ticks": ""
             }
            },
            "type": "scattergl"
           }
          ],
          "scattermapbox": [
           {
            "marker": {
             "colorbar": {
              "outlinewidth": 0,
              "ticks": ""
             }
            },
            "type": "scattermapbox"
           }
          ],
          "scatterpolar": [
           {
            "marker": {
             "colorbar": {
              "outlinewidth": 0,
              "ticks": ""
             }
            },
            "type": "scatterpolar"
           }
          ],
          "scatterpolargl": [
           {
            "marker": {
             "colorbar": {
              "outlinewidth": 0,
              "ticks": ""
             }
            },
            "type": "scatterpolargl"
           }
          ],
          "scatterternary": [
           {
            "marker": {
             "colorbar": {
              "outlinewidth": 0,
              "ticks": ""
             }
            },
            "type": "scatterternary"
           }
          ],
          "surface": [
           {
            "colorbar": {
             "outlinewidth": 0,
             "ticks": ""
            },
            "colorscale": [
             [
              0,
              "#0d0887"
             ],
             [
              0.1111111111111111,
              "#46039f"
             ],
             [
              0.2222222222222222,
              "#7201a8"
             ],
             [
              0.3333333333333333,
              "#9c179e"
             ],
             [
              0.4444444444444444,
              "#bd3786"
             ],
             [
              0.5555555555555556,
              "#d8576b"
             ],
             [
              0.6666666666666666,
              "#ed7953"
             ],
             [
              0.7777777777777778,
              "#fb9f3a"
             ],
             [
              0.8888888888888888,
              "#fdca26"
             ],
             [
              1,
              "#f0f921"
             ]
            ],
            "type": "surface"
           }
          ],
          "table": [
           {
            "cells": {
             "fill": {
              "color": "#EBF0F8"
             },
             "line": {
              "color": "white"
             }
            },
            "header": {
             "fill": {
              "color": "#C8D4E3"
             },
             "line": {
              "color": "white"
             }
            },
            "type": "table"
           }
          ]
         },
         "layout": {
          "annotationdefaults": {
           "arrowcolor": "#2a3f5f",
           "arrowhead": 0,
           "arrowwidth": 1
          },
          "autotypenumbers": "strict",
          "coloraxis": {
           "colorbar": {
            "outlinewidth": 0,
            "ticks": ""
           }
          },
          "colorscale": {
           "diverging": [
            [
             0,
             "#8e0152"
            ],
            [
             0.1,
             "#c51b7d"
            ],
            [
             0.2,
             "#de77ae"
            ],
            [
             0.3,
             "#f1b6da"
            ],
            [
             0.4,
             "#fde0ef"
            ],
            [
             0.5,
             "#f7f7f7"
            ],
            [
             0.6,
             "#e6f5d0"
            ],
            [
             0.7,
             "#b8e186"
            ],
            [
             0.8,
             "#7fbc41"
            ],
            [
             0.9,
             "#4d9221"
            ],
            [
             1,
             "#276419"
            ]
           ],
           "sequential": [
            [
             0,
             "#0d0887"
            ],
            [
             0.1111111111111111,
             "#46039f"
            ],
            [
             0.2222222222222222,
             "#7201a8"
            ],
            [
             0.3333333333333333,
             "#9c179e"
            ],
            [
             0.4444444444444444,
             "#bd3786"
            ],
            [
             0.5555555555555556,
             "#d8576b"
            ],
            [
             0.6666666666666666,
             "#ed7953"
            ],
            [
             0.7777777777777778,
             "#fb9f3a"
            ],
            [
             0.8888888888888888,
             "#fdca26"
            ],
            [
             1,
             "#f0f921"
            ]
           ],
           "sequentialminus": [
            [
             0,
             "#0d0887"
            ],
            [
             0.1111111111111111,
             "#46039f"
            ],
            [
             0.2222222222222222,
             "#7201a8"
            ],
            [
             0.3333333333333333,
             "#9c179e"
            ],
            [
             0.4444444444444444,
             "#bd3786"
            ],
            [
             0.5555555555555556,
             "#d8576b"
            ],
            [
             0.6666666666666666,
             "#ed7953"
            ],
            [
             0.7777777777777778,
             "#fb9f3a"
            ],
            [
             0.8888888888888888,
             "#fdca26"
            ],
            [
             1,
             "#f0f921"
            ]
           ]
          },
          "colorway": [
           "#636efa",
           "#EF553B",
           "#00cc96",
           "#ab63fa",
           "#FFA15A",
           "#19d3f3",
           "#FF6692",
           "#B6E880",
           "#FF97FF",
           "#FECB52"
          ],
          "font": {
           "color": "#2a3f5f"
          },
          "geo": {
           "bgcolor": "white",
           "lakecolor": "white",
           "landcolor": "#E5ECF6",
           "showlakes": true,
           "showland": true,
           "subunitcolor": "white"
          },
          "hoverlabel": {
           "align": "left"
          },
          "hovermode": "closest",
          "mapbox": {
           "style": "light"
          },
          "paper_bgcolor": "white",
          "plot_bgcolor": "#E5ECF6",
          "polar": {
           "angularaxis": {
            "gridcolor": "white",
            "linecolor": "white",
            "ticks": ""
           },
           "bgcolor": "#E5ECF6",
           "radialaxis": {
            "gridcolor": "white",
            "linecolor": "white",
            "ticks": ""
           }
          },
          "scene": {
           "xaxis": {
            "backgroundcolor": "#E5ECF6",
            "gridcolor": "white",
            "gridwidth": 2,
            "linecolor": "white",
            "showbackground": true,
            "ticks": "",
            "zerolinecolor": "white"
           },
           "yaxis": {
            "backgroundcolor": "#E5ECF6",
            "gridcolor": "white",
            "gridwidth": 2,
            "linecolor": "white",
            "showbackground": true,
            "ticks": "",
            "zerolinecolor": "white"
           },
           "zaxis": {
            "backgroundcolor": "#E5ECF6",
            "gridcolor": "white",
            "gridwidth": 2,
            "linecolor": "white",
            "showbackground": true,
            "ticks": "",
            "zerolinecolor": "white"
           }
          },
          "shapedefaults": {
           "line": {
            "color": "#2a3f5f"
           }
          },
          "ternary": {
           "aaxis": {
            "gridcolor": "white",
            "linecolor": "white",
            "ticks": ""
           },
           "baxis": {
            "gridcolor": "white",
            "linecolor": "white",
            "ticks": ""
           },
           "bgcolor": "#E5ECF6",
           "caxis": {
            "gridcolor": "white",
            "linecolor": "white",
            "ticks": ""
           }
          },
          "title": {
           "x": 0.05
          },
          "xaxis": {
           "automargin": true,
           "gridcolor": "white",
           "linecolor": "white",
           "ticks": "",
           "title": {
            "standoff": 15
           },
           "zerolinecolor": "white",
           "zerolinewidth": 2
          },
          "yaxis": {
           "automargin": true,
           "gridcolor": "white",
           "linecolor": "white",
           "ticks": "",
           "title": {
            "standoff": 15
           },
           "zerolinecolor": "white",
           "zerolinewidth": 2
          }
         }
        },
        "width": 600,
        "xaxis": {
         "anchor": "y",
         "domain": [
          0,
          1
         ],
         "tickangle": 45,
         "title": {
          "text": "x"
         }
        },
        "yaxis": {
         "anchor": "x",
         "domain": [
          0,
          1
         ],
         "title": {
          "text": "y"
         }
        }
       }
      }
     },
     "metadata": {},
     "output_type": "display_data"
    }
   ],
   "source": [
    "fig_barplot = px.bar(x=df.isna().sum().index, y=df.isna().sum().values,  width=600, height=400).update_xaxes(tickangle=45)\n",
    "fig_barplot.show()"
   ]
  },
  {
   "cell_type": "markdown",
   "metadata": {},
   "source": [
    "<br>"
   ]
  },
  {
   "cell_type": "markdown",
   "metadata": {},
   "source": [
    "En la siguiente matriz se muestran las correlaciones de nulos entre las columnas, esto es, si los nulos de una columna se corresponden con los de otra. A partir de esta podemos inferir que:<br>\n",
    "\n",
    "<li>Las columnas lat y lon presentan una correlación perfecta con la columna lat-lon, eso es debido a que si hay valores nulos en lat-lon encontramos tambien nulos en lat y en lon, probablemente como resultado de una operación split durante el proceso de ETL.\n",
    "\n",
    "<li>Entre las columnas price_usd_per_m2 y surface_total_in_m2 y entre price_usd_per_m2 y surface_covered_in_m2 hay otra correlaciónn fuerte. Esto se debe a que, si hay nulos en las columnas de superficie, no se puede calcular el precio por metro cuadrado. \n",
    "\n",
    "<li>Tambien se ve una correlación moderada entre las columnas price_per_m2 y las columnas price_usd y price_aprox_local_currency, debido a que la falta de datos de precios impide los cálculos de otras columnas que dependen de ellos.\n",
    "</li><br>"
   ]
  },
  {
   "cell_type": "code",
   "execution_count": 227,
   "metadata": {},
   "outputs": [
    {
     "data": {
      "text/plain": [
       "<AxesSubplot:>"
      ]
     },
     "execution_count": 227,
     "metadata": {},
     "output_type": "execute_result"
    },
    {
     "data": {
      "image/png": "[encoded data removed]",
      "text/plain": [
       "<Figure size 1440x864 with 2 Axes>"
      ]
     },
     "metadata": {},
     "output_type": "display_data"
    }
   ],
   "source": [
    "msno.heatmap(df)"
   ]
  },
  {
   "cell_type": "markdown",
   "metadata": {},
   "source": [
    "<br>"
   ]
  },
  {
   "cell_type": "markdown",
   "metadata": {},
   "source": [
    "Para simplificar el proceso de análisis y disminuir la repetición de código, creamos una función que nos permita repetir este proceso de inspección de forma sistemática y profunda en distintos momentos del proceso de limpieza que realizaremos. En nuestro pequeño dashboard se destaca además la diferenciación entre entradas y campos correctos."
   ]
  },
  {
   "cell_type": "code",
   "execution_count": 228,
   "metadata": {},
   "outputs": [
    {
     "data": {
      "application/vnd.plotly.v1+json": {
       "config": {
        "modeBarButtonsToAdd": [
         "drawline",
         "drawopenpath",
         "drawclosedpath",
         "drawcircle",
         "drawrect",
         "eraseshape"
        ],
        "plotlyServerURL": "https://plot.ly"
       },
       "data": [
        {
         "domain": {
          "x": [
           0,
           0.45
          ],
          "y": [
           0.625,
           1
          ]
         },
         "hole": 0.4,
         "labels": [
          "Null entries",
          "Valid entries"
         ],
         "legendgroup": "apie",
         "marker": {
          "colors": [
           "#FC645F",
           "#A8E4A0",
           "#7088FF",
           "#FEB1AF"
          ]
         },
         "name": "Correct entries",
         "textposition": "inside",
         "title": {
          "text": "116140"
         },
         "type": "pie",
         "values": [
          108481,
          7659
         ]
        },
        {
         "domain": {
          "x": [
           0.55,
           1
          ],
          "y": [
           0.625,
           1
          ]
         },
         "hole": 0.4,
         "labels": [
          "Null cells",
          "Valid cells"
         ],
         "legendgroup": "pie",
         "marker": {
          "colors": [
           "#FC645F",
           "#A8E4A0",
           "#7088FF",
           "#FEB1AF"
          ]
         },
         "name": "Correct cells",
         "textposition": "inside",
         "title": {
          "text": "2206660"
         },
         "type": "pie",
         "values": [
          615624,
          1591036
         ]
        },
        {
         "marker": {
          "color": "#FC645F"
         },
         "name": "Nulls/Column",
         "orientation": "h",
         "showlegend": false,
         "textposition": "inside",
         "type": "bar",
         "x": [
          108481,
          102055,
          69941,
          49289,
          48289,
          48289,
          48289,
          38378,
          30443,
          18853,
          18180,
          17556,
          17556,
          23,
          2
         ],
         "xaxis": "x",
         "y": [
          "floor",
          "expenses",
          "rooms",
          "price_usd_per_m2",
          "lat-lon",
          "lat",
          "lon",
          "surface_total_in_m2",
          "price_per_m2",
          "surface_covered_in_m2",
          "geonames_id",
          "price_usd",
          "price_aprox_local_currency",
          "place_name",
          "description"
         ],
         "yaxis": "y"
        }
       ],
       "layout": {
        "annotations": [
         {
          "font": {
           "size": 16
          },
          "showarrow": false,
          "text": "<b>CORRECT ENTRIES</b>",
          "x": 0.225,
          "xanchor": "center",
          "xref": "paper",
          "y": 1,
          "yanchor": "bottom",
          "yref": "paper"
         },
         {
          "font": {
           "size": 16
          },
          "showarrow": false,
          "text": "<b>CORRECT CELLS",
          "x": 0.775,
          "xanchor": "center",
          "xref": "paper",
          "y": 1,
          "yanchor": "bottom",
          "yref": "paper"
         },
         {
          "font": {
           "size": 16
          },
          "showarrow": false,
          "text": "<b>NULLS/COLUMN</b>",
          "x": 0.5,
          "xanchor": "center",
          "xref": "paper",
          "y": 0.375,
          "yanchor": "bottom",
          "yref": "paper"
         }
        ],
        "font": {
         "size": 14
        },
        "height": 600,
        "template": {
         "data": {
          "bar": [
           {
            "error_x": {
             "color": "#2a3f5f"
            },
            "error_y": {
             "color": "#2a3f5f"
            },
            "marker": {
             "line": {
              "color": "#E5ECF6",
              "width": 0.5
             },
             "pattern": {
              "fillmode": "overlay",
              "size": 10,
              "solidity": 0.2
             }
            },
            "type": "bar"
           }
          ],
          "barpolar": [
           {
            "marker": {
             "line": {
              "color": "#E5ECF6",
              "width": 0.5
             },
             "pattern": {
              "fillmode": "overlay",
              "size": 10,
              "solidity": 0.2
             }
            },
            "type": "barpolar"
           }
          ],
          "carpet": [
           {
            "aaxis": {
             "endlinecolor": "#2a3f5f",
             "gridcolor": "white",
             "linecolor": "white",
             "minorgridcolor": "white",
             "startlinecolor": "#2a3f5f"
            },
            "baxis": {
             "endlinecolor": "#2a3f5f",
             "gridcolor": "white",
             "linecolor": "white",
             "minorgridcolor": "white",
             "startlinecolor": "#2a3f5f"
            },
            "type": "carpet"
           }
          ],
          "choropleth": [
           {
            "colorbar": {
             "outlinewidth": 0,
             "ticks": ""
            },
            "type": "choropleth"
           }
          ],
          "contour": [
           {
            "colorbar": {
             "outlinewidth": 0,
             "ticks": ""
            },
            "colorscale": [
             [
              0,
              "#0d0887"
             ],
             [
              0.1111111111111111,
              "#46039f"
             ],
             [
              0.2222222222222222,
              "#7201a8"
             ],
             [
              0.3333333333333333,
              "#9c179e"
             ],
             [
              0.4444444444444444,
              "#bd3786"
             ],
             [
              0.5555555555555556,
              "#d8576b"
             ],
             [
              0.6666666666666666,
              "#ed7953"
             ],
             [
              0.7777777777777778,
              "#fb9f3a"
             ],
             [
              0.8888888888888888,
              "#fdca26"
             ],
             [
              1,
              "#f0f921"
             ]
            ],
            "type": "contour"
           }
          ],
          "contourcarpet": [
           {
            "colorbar": {
             "outlinewidth": 0,
             "ticks": ""
            },
            "type": "contourcarpet"
           }
          ],
          "heatmap": [
           {
            "colorbar": {
             "outlinewidth": 0,
             "ticks": ""
            },
            "colorscale": [
             [
              0,
              "#0d0887"
             ],
             [
              0.1111111111111111,
              "#46039f"
             ],
             [
              0.2222222222222222,
              "#7201a8"
             ],
             [
              0.3333333333333333,
              "#9c179e"
             ],
             [
              0.4444444444444444,
              "#bd3786"
             ],
             [
              0.5555555555555556,
              "#d8576b"
             ],
             [
              0.6666666666666666,
              "#ed7953"
             ],
             [
              0.7777777777777778,
              "#fb9f3a"
             ],
             [
              0.8888888888888888,
              "#fdca26"
             ],
             [
              1,
              "#f0f921"
             ]
            ],
            "type": "heatmap"
           }
          ],
          "heatmapgl": [
           {
            "colorbar": {
             "outlinewidth": 0,
             "ticks": ""
            },
            "colorscale": [
             [
              0,
              "#0d0887"
             ],
             [
              0.1111111111111111,
              "#46039f"
             ],
             [
              0.2222222222222222,
              "#7201a8"
             ],
             [
              0.3333333333333333,
              "#9c179e"
             ],
             [
              0.4444444444444444,
              "#bd3786"
             ],
             [
              0.5555555555555556,
              "#d8576b"
             ],
             [
              0.6666666666666666,
              "#ed7953"
             ],
             [
              0.7777777777777778,
              "#fb9f3a"
             ],
             [
              0.8888888888888888,
              "#fdca26"
             ],
             [
              1,
              "#f0f921"
             ]
            ],
            "type": "heatmapgl"
           }
          ],
          "histogram": [
           {
            "marker": {
             "pattern": {
              "fillmode": "overlay",
              "size": 10,
              "solidity": 0.2
             }
            },
            "type": "histogram"
           }
          ],
          "histogram2d": [
           {
            "colorbar": {
             "outlinewidth": 0,
             "ticks": ""
            },
            "colorscale": [
             [
              0,
              "#0d0887"
             ],
             [
              0.1111111111111111,
              "#46039f"
             ],
             [
              0.2222222222222222,
              "#7201a8"
             ],
             [
              0.3333333333333333,
              "#9c179e"
             ],
             [
              0.4444444444444444,
              "#bd3786"
             ],
             [
              0.5555555555555556,
              "#d8576b"
             ],
             [
              0.6666666666666666,
              "#ed7953"
             ],
             [
              0.7777777777777778,
              "#fb9f3a"
             ],
             [
              0.8888888888888888,
              "#fdca26"
             ],
             [
              1,
              "#f0f921"
             ]
            ],
            "type": "histogram2d"
           }
          ],
          "histogram2dcontour": [
           {
            "colorbar": {
             "outlinewidth": 0,
             "ticks": ""
            },
            "colorscale": [
             [
              0,
              "#0d0887"
             ],
             [
              0.1111111111111111,
              "#46039f"
             ],
             [
              0.2222222222222222,
              "#7201a8"
             ],
             [
              0.3333333333333333,
              "#9c179e"
             ],
             [
              0.4444444444444444,
              "#bd3786"
             ],
             [
              0.5555555555555556,
              "#d8576b"
             ],
             [
              0.6666666666666666,
              "#ed7953"
             ],
             [
              0.7777777777777778,
              "#fb9f3a"
             ],
             [
              0.8888888888888888,
              "#fdca26"
             ],
             [
              1,
              "#f0f921"
             ]
            ],
            "type": "histogram2dcontour"
           }
          ],
          "mesh3d": [
           {
            "colorbar": {
             "outlinewidth": 0,
             "ticks": ""
            },
            "type": "mesh3d"
           }
          ],
          "parcoords": [
           {
            "line": {
             "colorbar": {
              "outlinewidth": 0,
              "ticks": ""
             }
            },
            "type": "parcoords"
           }
          ],
          "pie": [
           {
            "automargin": true,
            "type": "pie"
           }
          ],
          "scatter": [
           {
            "marker": {
             "colorbar": {
              "outlinewidth": 0,
              "ticks": ""
             }
            },
            "type": "scatter"
           }
          ],
          "scatter3d": [
           {
            "line": {
             "colorbar": {
              "outlinewidth": 0,
              "ticks": ""
             }
            },
            "marker": {
             "colorbar": {
              "outlinewidth": 0,
              "ticks": ""
             }
            },
            "type": "scatter3d"
           }
          ],
          "scattercarpet": [
           {
            "marker": {
             "colorbar": {
              "outlinewidth": 0,
              "ticks": ""
             }
            },
            "type": "scattercarpet"
           }
          ],
          "scattergeo": [
           {
            "marker": {
             "colorbar": {
              "outlinewidth": 0,
              "ticks": ""
             }
            },
            "type": "scattergeo"
           }
          ],
          "scattergl": [
           {
            "marker": {
             "colorbar": {
              "outlinewidth": 0,
              "ticks": ""
             }
            },
            "type": "scattergl"
           }
          ],
          "scattermapbox": [
           {
            "marker": {
             "colorbar": {
              "outlinewidth": 0,
              "ticks": ""
             }
            },
            "type": "scattermapbox"
           }
          ],
          "scatterpolar": [
           {
            "marker": {
             "colorbar": {
              "outlinewidth": 0,
              "ticks": ""
             }
            },
            "type": "scatterpolar"
           }
          ],
          "scatterpolargl": [
           {
            "marker": {
             "colorbar": {
              "outlinewidth": 0,
              "ticks": ""
             }
            },
            "type": "scatterpolargl"
           }
          ],
          "scatterternary": [
           {
            "marker": {
             "colorbar": {
              "outlinewidth": 0,
              "ticks": ""
             }
            },
            "type": "scatterternary"
           }
          ],
          "surface": [
           {
            "colorbar": {
             "outlinewidth": 0,
             "ticks": ""
            },
            "colorscale": [
             [
              0,
              "#0d0887"
             ],
             [
              0.1111111111111111,
              "#46039f"
             ],
             [
              0.2222222222222222,
              "#7201a8"
             ],
             [
              0.3333333333333333,
              "#9c179e"
             ],
             [
              0.4444444444444444,
              "#bd3786"
             ],
             [
              0.5555555555555556,
              "#d8576b"
             ],
             [
              0.6666666666666666,
              "#ed7953"
             ],
             [
              0.7777777777777778,
              "#fb9f3a"
             ],
             [
              0.8888888888888888,
              "#fdca26"
             ],
             [
              1,
              "#f0f921"
             ]
            ],
            "type": "surface"
           }
          ],
          "table": [
           {
            "cells": {
             "fill": {
              "color": "#EBF0F8"
             },
             "line": {
              "color": "white"
             }
            },
            "header": {
             "fill": {
              "color": "#C8D4E3"
             },
             "line": {
              "color": "white"
             }
            },
            "type": "table"
           }
          ]
         },
         "layout": {
          "annotationdefaults": {
           "arrowcolor": "#2a3f5f",
           "arrowhead": 0,
           "arrowwidth": 1
          },
          "autotypenumbers": "strict",
          "coloraxis": {
           "colorbar": {
            "outlinewidth": 0,
            "ticks": ""
           }
          },
          "colorscale": {
           "diverging": [
            [
             0,
             "#8e0152"
            ],
            [
             0.1,
             "#c51b7d"
            ],
            [
             0.2,
             "#de77ae"
            ],
            [
             0.3,
             "#f1b6da"
            ],
            [
             0.4,
             "#fde0ef"
            ],
            [
             0.5,
             "#f7f7f7"
            ],
            [
             0.6,
             "#e6f5d0"
            ],
            [
             0.7,
             "#b8e186"
            ],
            [
             0.8,
             "#7fbc41"
            ],
            [
             0.9,
             "#4d9221"
            ],
            [
             1,
             "#276419"
            ]
           ],
           "sequential": [
            [
             0,
             "#0d0887"
            ],
            [
             0.1111111111111111,
             "#46039f"
            ],
            [
             0.2222222222222222,
             "#7201a8"
            ],
            [
             0.3333333333333333,
             "#9c179e"
            ],
            [
             0.4444444444444444,
             "#bd3786"
            ],
            [
             0.5555555555555556,
             "#d8576b"
            ],
            [
             0.6666666666666666,
             "#ed7953"
            ],
            [
             0.7777777777777778,
             "#fb9f3a"
            ],
            [
             0.8888888888888888,
             "#fdca26"
            ],
            [
             1,
             "#f0f921"
            ]
           ],
           "sequentialminus": [
            [
             0,
             "#0d0887"
            ],
            [
             0.1111111111111111,
             "#46039f"
            ],
            [
             0.2222222222222222,
             "#7201a8"
            ],
            [
             0.3333333333333333,
             "#9c179e"
            ],
            [
             0.4444444444444444,
             "#bd3786"
            ],
            [
             0.5555555555555556,
             "#d8576b"
            ],
            [
             0.6666666666666666,
             "#ed7953"
            ],
            [
             0.7777777777777778,
             "#fb9f3a"
            ],
            [
             0.8888888888888888,
             "#fdca26"
            ],
            [
             1,
             "#f0f921"
            ]
           ]
          },
          "colorway": [
           "#636efa",
           "#EF553B",
           "#00cc96",
           "#ab63fa",
           "#FFA15A",
           "#19d3f3",
           "#FF6692",
           "#B6E880",
           "#FF97FF",
           "#FECB52"
          ],
          "font": {
           "color": "#2a3f5f"
          },
          "geo": {
           "bgcolor": "white",
           "lakecolor": "white",
           "landcolor": "#E5ECF6",
           "showlakes": true,
           "showland": true,
           "subunitcolor": "white"
          },
          "hoverlabel": {
           "align": "left"
          },
          "hovermode": "closest",
          "mapbox": {
           "style": "light"
          },
          "paper_bgcolor": "white",
          "plot_bgcolor": "#E5ECF6",
          "polar": {
           "angularaxis": {
            "gridcolor": "white",
            "linecolor": "white",
            "ticks": ""
           },
           "bgcolor": "#E5ECF6",
           "radialaxis": {
            "gridcolor": "white",
            "linecolor": "white",
            "ticks": ""
           }
          },
          "scene": {
           "xaxis": {
            "backgroundcolor": "#E5ECF6",
            "gridcolor": "white",
            "gridwidth": 2,
            "linecolor": "white",
            "showbackground": true,
            "ticks": "",
            "zerolinecolor": "white"
           },
           "yaxis": {
            "backgroundcolor": "#E5ECF6",
            "gridcolor": "white",
            "gridwidth": 2,
            "linecolor": "white",
            "showbackground": true,
            "ticks": "",
            "zerolinecolor": "white"
           },
           "zaxis": {
            "backgroundcolor": "#E5ECF6",
            "gridcolor": "white",
            "gridwidth": 2,
            "linecolor": "white",
            "showbackground": true,
            "ticks": "",
            "zerolinecolor": "white"
           }
          },
          "shapedefaults": {
           "line": {
            "color": "#2a3f5f"
           }
          },
          "ternary": {
           "aaxis": {
            "gridcolor": "white",
            "linecolor": "white",
            "ticks": ""
           },
           "baxis": {
            "gridcolor": "white",
            "linecolor": "white",
            "ticks": ""
           },
           "bgcolor": "#E5ECF6",
           "caxis": {
            "gridcolor": "white",
            "linecolor": "white",
            "ticks": ""
           }
          },
          "title": {
           "x": 0.05
          },
          "xaxis": {
           "automargin": true,
           "gridcolor": "white",
           "linecolor": "white",
           "ticks": "",
           "title": {
            "standoff": 15
           },
           "zerolinecolor": "white",
           "zerolinewidth": 2
          },
          "yaxis": {
           "automargin": true,
           "gridcolor": "white",
           "linecolor": "white",
           "ticks": "",
           "title": {
            "standoff": 15
           },
           "zerolinecolor": "white",
           "zerolinewidth": 2
          }
         }
        },
        "title": {
         "text": "<b>NAN ANALYSIS INSIGHTS</b>"
        },
        "width": 800,
        "xaxis": {
         "anchor": "y",
         "domain": [
          0,
          1
         ],
         "title": {
          "text": "Nulls"
         }
        },
        "xaxis2": {
         "anchor": "y2",
         "domain": [
          0.55,
          1
         ]
        },
        "yaxis": {
         "anchor": "x",
         "domain": [
          0,
          0.375
         ],
         "title": {
          "text": "Columns"
         }
        },
        "yaxis2": {
         "anchor": "x2",
         "domain": [
          0,
          0.375
         ]
        }
       }
      }
     },
     "metadata": {},
     "output_type": "display_data"
    }
   ],
   "source": [
    "x = dat_insights(df, \"NaN analysis\")"
   ]
  },
  {
   "cell_type": "markdown",
   "metadata": {},
   "source": [
    "<br>"
   ]
  },
  {
   "cell_type": "markdown",
   "metadata": {},
   "source": [
    "<br>"
   ]
  },
  {
   "cell_type": "markdown",
   "metadata": {},
   "source": [
    "## Imputación de nulos"
   ]
  },
  {
   "cell_type": "markdown",
   "metadata": {},
   "source": [
    "#### lat-lon, lat y lon <br>"
   ]
  },
  {
   "cell_type": "markdown",
   "metadata": {},
   "source": [
    "Uno de los problemas que graficamos con anterioridad es la presencia de nulos en las columnas lat-lon, lat y long. Si bien no sabemos aun su importancia a nivel predictivo, podemos intentar rescartar alguno de los valores mediante el uso de la columna geonames_id, que se corresponde con los datos de la base de datos Geonames. Nuestra primera aproximación a este problema fue mediante el uso de la libreria Geocoder que emplea una API rest:\n",
    "<br><br><br>\n",
    "\n",
    "```python\n",
    "import geocoder\n",
    "\n",
    "def geocode_check(geocodeid):  \n",
    "\n",
    "    lat = geocoder.geonames(geocodeid ,method='details', key='joaco').lat\n",
    "    lon = geocoder.geonames(geocodeid ,method='details', key='joaco').lng\n",
    "\n",
    "    result = f\"{lat},{lon}\"\n",
    "    return result\n",
    "\n",
    "\n",
    "df['geonames_id'].fillna(0, inplace=True)\n",
    "df['lat-lon'] = df['geonames_id'].apply(lambda x: geocode_check(x) if x != 0 else None)\n",
    "```\n",
    "\n",
    "\n",
    "<br><br><br>Sin embargo, dado el volumne de nuestro dataset, superamos por completo el numero de consultas realizables. Debido a esto procedimos a descargar el dataset de la misma base de datos para realizar esta operación sin emplear la libreria Geocoder ni la API disponible."
   ]
  },
  {
   "cell_type": "code",
   "execution_count": 229,
   "metadata": {},
   "outputs": [
    {
     "name": "stdout",
     "output_type": "stream",
     "text": [
      "\n",
      "Pudimos recuperar 29659 latitudes (25%)\n",
      "Pudimos recuperar 29659 longitudes (25%)\n",
      "Pudimos recuperar 40117 longitudes (34%)\n",
      " \n"
     ]
    }
   ],
   "source": [
    "# Variables de comprobación\n",
    "before_lat_nulls = df['lat'].isnull().sum()\n",
    "before_lon_nulls = df['lon'].isnull().sum()\n",
    "before_com_nulls = df['lat-lon'].isnull().sum()\n",
    "test = df[['lat-lon', 'lat', 'lon']]\n",
    "\n",
    "\n",
    "# Cargamos el dataset y seteamos geonames_id como index\n",
    "geonames = pd.read_csv('geonames.csv')\n",
    "geonames = geonames.set_index('geonameid')\n",
    "\n",
    "\n",
    "# Imputamos los NaN en geonames_id para evitar errores en el procesado\n",
    "df['geonames_id'].fillna(0, inplace=True)\n",
    "\n",
    "\n",
    "# Imputamos las columnas lat-lon\n",
    "df['lon'] = df['geonames_id'].apply(lambda x: geonames['longitude'].loc[int(x)] if x in geonames.index else None)\n",
    "df['lat'] = df['geonames_id'].apply(lambda x: geonames['latitude'].loc[int(x)] if x in geonames.index else None)\n",
    "\n",
    "\n",
    "# Hacemos un update de lat-lon\n",
    "def new_fun(x, y):\n",
    "    if str(x) != 'nan' and str(y) != 'nan':\n",
    "        return str(x) + ', ' + str(x)\n",
    "    else:\n",
    "        return None\n",
    "\n",
    "df['lat-lon'] = df.apply(lambda x: new_fun(x['lat'], x['lon']) if new_fun(x['lat'], x['lon']) is not None else x['lat-lon'], axis=1)\n",
    "\n",
    "\n",
    "# Results\n",
    "rec_lat_nulls = before_lat_nulls-df['lat'].isnull().sum()\n",
    "rec_lon_nulls = before_lon_nulls-df['lat'].isnull().sum()\n",
    "rec_com_nulls = before_com_nulls-df['lat-lon'].isnull().sum()\n",
    "\n",
    "print(f\"\"\"\n",
    "Pudimos recuperar {rec_lat_nulls} latitudes ({int(rec_lat_nulls/df.shape[0]*100)}%)\n",
    "Pudimos recuperar {rec_lon_nulls} longitudes ({int(rec_lon_nulls/df.shape[0]*100)}%)\n",
    "Pudimos recuperar {rec_com_nulls} longitudes ({int(rec_com_nulls/df.shape[0]*100)}%)\n",
    " \"\"\")"
   ]
  },
  {
   "cell_type": "markdown",
   "metadata": {},
   "source": [
    "<br> Finalmente ploteamos las diferencias y podemos observa que los resultados fueron favorables. Si bien no imputamos la totalidad, recuperamos una cantidad sustancial de datos."
   ]
  },
  {
   "cell_type": "code",
   "execution_count": 230,
   "metadata": {},
   "outputs": [
    {
     "data": {
      "image/png": "[encoded data removed]",
      "text/plain": [
       "<Figure size 864x432 with 4 Axes>"
      ]
     },
     "metadata": {},
     "output_type": "display_data"
    }
   ],
   "source": [
    "fig, axes = plt.subplots(1,2, figsize=(12, 6))\n",
    "sn.heatmap(test.isna(), ax=axes[0])\n",
    "sn.heatmap(df[['lat-lon', 'lat', 'lon']].isna(), ax=axes[1])\n",
    "axes[0].set_title('Original')\n",
    "axes[1].set_title('Updated')\n",
    "fig.show()"
   ]
  },
  {
   "cell_type": "markdown",
   "metadata": {},
   "source": [
    "<br>"
   ]
  },
  {
   "cell_type": "markdown",
   "metadata": {},
   "source": [
    "<br>"
   ]
  },
  {
   "cell_type": "markdown",
   "metadata": {},
   "source": [
    "#### place_name <br>"
   ]
  },
  {
   "cell_type": "markdown",
   "metadata": {},
   "source": [
    "A diferen del caso anterior, donde las columnas presentaban un número demasiado alto para el uso de una API duarante el proceso de imputación, place_name tiene un número de nulos bajo. Sin embargo, hay una relación 1:1 de nulos con la columna geonames_id que impide usar la libreria geocoder."
   ]
  },
  {
   "cell_type": "code",
   "execution_count": 231,
   "metadata": {},
   "outputs": [
    {
     "data": {
      "image/png": "[encoded data removed]",
      "text/plain": [
       "<Figure size 432x288 with 2 Axes>"
      ]
     },
     "metadata": {},
     "output_type": "display_data"
    }
   ],
   "source": [
    "na_df = df[df['place_name'].isna()==True].loc[:, ['place_name', 'geonames_id']]\n",
    "na_df['geonames_id'] = float('NaN')\n",
    "new = sn.heatmap(na_df.isnull())"
   ]
  },
  {
   "cell_type": "markdown",
   "metadata": {},
   "source": [
    "<br>"
   ]
  },
  {
   "cell_type": "markdown",
   "metadata": {},
   "source": [
    "Para sortear la ausencia de geonames id empleamos reverse_geocoder que permite revetir la consulta empleando latitud y longitud. Dado que ya no usaremos la columna geonames_id, procedemos a eliminarla."
   ]
  },
  {
   "cell_type": "code",
   "execution_count": 232,
   "metadata": {},
   "outputs": [
    {
     "name": "stdout",
     "output_type": "stream",
     "text": [
      "El registro de la entrada de testeo era nan y su valor actual es Tigre.\n"
     ]
    }
   ],
   "source": [
    "# Guardamos un registro para testear los resultados\n",
    "check_entry = df.loc[6489]['place_name']\n",
    "\n",
    "\n",
    "# Iteramos sobre los valores necesarios\n",
    "for index, place_name, latlon in zip(df.index, df.place_name, df['lat-lon']):\n",
    "    if str(place_name) == 'nan' :\n",
    "        coordinates = tuple(latlon.split(','))\n",
    "        df['place_name'].loc[index] = rg.search(coordinates)[0]['name']\n",
    "\n",
    "\n",
    "print(f\"El registro de la entrada de testeo era {check_entry} y su valor actual es {df.loc[6489]['place_name']}.\")"
   ]
  },
  {
   "cell_type": "code",
   "execution_count": 233,
   "metadata": {},
   "outputs": [],
   "source": [
    "df.drop('geonames_id', axis=1, inplace=True)"
   ]
  },
  {
   "cell_type": "markdown",
   "metadata": {},
   "source": [
    "<br>"
   ]
  },
  {
   "cell_type": "markdown",
   "metadata": {},
   "source": [
    "<br>"
   ]
  },
  {
   "cell_type": "markdown",
   "metadata": {},
   "source": [
    "### Imputación mediante description y title"
   ]
  },
  {
   "cell_type": "markdown",
   "metadata": {},
   "source": [
    "A través dedescription validaremos e imputaremos varias columnas, puesto que estas parecen ser una descomposición de la primera. Por este motivo, lo primero que haremos es descartar aquellos registros cuya descripción es nula."
   ]
  },
  {
   "cell_type": "code",
   "execution_count": 234,
   "metadata": {},
   "outputs": [
    {
     "data": {
      "text/plain": [
       "2"
      ]
     },
     "execution_count": 234,
     "metadata": {},
     "output_type": "execute_result"
    }
   ],
   "source": [
    "df['description'].isnull().sum()"
   ]
  },
  {
   "cell_type": "code",
   "execution_count": 235,
   "metadata": {
    "pycharm": {
     "name": "#%%\n"
    }
   },
   "outputs": [
    {
     "data": {
      "text/plain": [
       "Int64Index([], dtype='int64')"
      ]
     },
     "execution_count": 235,
     "metadata": {},
     "output_type": "execute_result"
    }
   ],
   "source": [
    "df.drop(index=df[df['description'].isnull() == True].index, inplace=True)\n",
    "df[df['description'].isnull() == True].index"
   ]
  },
  {
   "cell_type": "markdown",
   "metadata": {},
   "source": [
    "#### Expenses"
   ]
  },
  {
   "cell_type": "markdown",
   "metadata": {},
   "source": [
    "La cantidad de nulos en expenses es bastante alto, en muchos casos probablemente debido a la ausencia de estas y en otros por un ingreso de datos erroneo."
   ]
  },
  {
   "cell_type": "code",
   "execution_count": 236,
   "metadata": {},
   "outputs": [
    {
     "data": {
      "text/plain": [
       "102053"
      ]
     },
     "execution_count": 236,
     "metadata": {},
     "output_type": "execute_result"
    }
   ],
   "source": [
    "df['expenses'].isnull().sum()"
   ]
  },
  {
   "cell_type": "markdown",
   "metadata": {},
   "source": [
    "<br>"
   ]
  },
  {
   "cell_type": "markdown",
   "metadata": {},
   "source": [
    "Efectivamente descubrimos que hay 1557 casos donde la propiedad no cuenta con expensas y que existe una categorización \"bajas expensas\"."
   ]
  },
  {
   "cell_type": "code",
   "execution_count": 237,
   "metadata": {},
   "outputs": [
    {
     "data": {
      "text/plain": [
       "sin expensas    1611\n",
       "Name: description, dtype: int64"
      ]
     },
     "execution_count": 237,
     "metadata": {},
     "output_type": "execute_result"
    }
   ],
   "source": [
    "# Generamos una expresión regular para contemplar casos sin expensas\n",
    "expression_sin = re.compile(\".*(no\\spaga\\sexpensas|sin\\sexpensas)\")\n",
    "\n",
    "\n",
    "# Generamos una serie para contabilizar estos casos en el campo description\n",
    "series_no_exp = df['description'].str.lower().apply(lambda x: 'sin expensas' if expression_sin.match(x) is not None else None)\n",
    "series_no_exp.value_counts()"
   ]
  },
  {
   "cell_type": "code",
   "execution_count": 238,
   "metadata": {},
   "outputs": [
    {
     "data": {
      "text/plain": [
       "bajas expensas    2733\n",
       "Name: description, dtype: int64"
      ]
     },
     "execution_count": 238,
     "metadata": {},
     "output_type": "execute_result"
    }
   ],
   "source": [
    "expression_baj = re.compile(\".*(?:bajas\\s*expensas|bajisimas\\s*expensas|expensas\\s*bajas|bajisimas)\")\n",
    "\n",
    "\n",
    "# Generamos una serie para contabilizar estos casos en el campo description\n",
    "series_ba_exp = df['description'].str.lower().apply(lambda x: 'bajas expensas' if expression_baj.match(x) is not None else None)\n",
    "series_ba_exp.value_counts()"
   ]
  },
  {
   "cell_type": "markdown",
   "metadata": {},
   "source": [
    "<br>"
   ]
  },
  {
   "cell_type": "markdown",
   "metadata": {},
   "source": [
    "Mediante expresiones regulares podemos recuperar ademas aquellos casos donde la descripción incluye el valor de expensas."
   ]
  },
  {
   "cell_type": "code",
   "execution_count": 239,
   "metadata": {},
   "outputs": [
    {
     "data": {
      "text/plain": [
       "4396"
      ]
     },
     "execution_count": 239,
     "metadata": {},
     "output_type": "execute_result"
    }
   ],
   "source": [
    "# Creamos algunas funciones de limpieza que faciliten el trabajo con expresiones regulares y sus resultados\n",
    "def convert(new_string):\n",
    "    new_string = \" \".join(new_string.split())\n",
    "    remove_c = ['$', '.', ':', \"'\"]\n",
    "\n",
    "    for character in remove_c:\n",
    "        new_string = new_string.replace(character, '')\n",
    "\n",
    "    return new_string\n",
    "\n",
    "\n",
    "def clean_up(expenses_value):\n",
    "    replace_list = ['mensuales', 'expensas', 'de']\n",
    "\n",
    "    for replace_value in replace_list:\n",
    "        expenses_value = expenses_value.replace(replace_value, '')\n",
    "\n",
    "    return int(expenses_value)\n",
    "\n",
    "\n",
    "# Generamos una expresión regular que contemple y capture los valores monetarios para expensas\n",
    "expression_val = re.compile(\".*(expensas\\s*mensuales\\s*(\\d{1,5})|expensas\\s*de\\s*(\\d{1,5})|expensas\\s*(\\d{1,5})|expensas\\s*mensuales\\s*(\\d{1,5}))\")\n",
    "\n",
    "\n",
    "# Analizamos los resultados\n",
    "serie_val = df['description'].str.lower().apply(lambda x: clean_up(expression_val.match(convert(x)).group(1)) if expression_val.match(convert(x)) is not None else None)\n",
    "serie_val.value_counts().sum()"
   ]
  },
  {
   "cell_type": "markdown",
   "metadata": {},
   "source": [
    "<br>"
   ]
  },
  {
   "cell_type": "markdown",
   "metadata": {},
   "source": [
    "Profundizando sobre este último paso descubrimos ademas que incluso para aquellos casos donde el valor de expensas no es nulo en su origen difiere del valor presente en descripción. Si consideramos las descripciones como fuente de verdad debemos entonces aplicar el proceso no solo a nulos sino a valores existentes."
   ]
  },
  {
   "cell_type": "code",
   "execution_count": 240,
   "metadata": {},
   "outputs": [
    {
     "data": {
      "text/plain": [
       "(1300.0, 2000.0, False)"
      ]
     },
     "execution_count": 240,
     "metadata": {},
     "output_type": "execute_result"
    }
   ],
   "source": [
    "serie_val.loc[143], serie_val.loc[120935], df.loc[120935]['expenses'] == serie_val.loc[120935]"
   ]
  },
  {
   "cell_type": "code",
   "execution_count": 241,
   "metadata": {},
   "outputs": [
    {
     "data": {
      "text/plain": [
       "0"
      ]
     },
     "execution_count": 241,
     "metadata": {},
     "output_type": "execute_result"
    }
   ],
   "source": [
    "# Usamos lower sobre description para simplificar el proceso\n",
    "df['description'] = df['description'].str.lower()\n",
    "\n",
    "\n",
    "# Aplicamos el proceso sobre nuevas columnas\n",
    "df['sinexp'] = df['description'].apply(lambda x: 'sin expensas' if expression_sin.match(x) is not None else None)\n",
    "df['bajexp'] = df['description'].apply(lambda x: 'expensas bajas' if expression_baj.match(x) is not None else None)\n",
    "df['valexp'] = df['description'].apply(lambda x: clean_up(expression_val.match(convert(x)).group(1)) if expression_val.match(convert(x)) is not None else None)\n",
    "\n",
    "\n",
    "# Actualizamos expensas en base a las nuevas columnas\n",
    "df['expenses'].update(df['sinexp'])\n",
    "df['expenses'].update(df['bajexp'])\n",
    "df['expenses'].update(df['valexp'])\n",
    "df.drop(['sinexp', 'valexp', 'bajexp'], axis=1, inplace=True)\n",
    "\n",
    "\n",
    "# Creamos una nueva categoria\n",
    "df['expenses'][df['expenses'].isna()==True] = 'no informa'\n",
    "\n",
    "\n",
    "# Control del resultado\n",
    "df['expenses'].isnull().sum()"
   ]
  },
  {
   "cell_type": "markdown",
   "metadata": {},
   "source": [
    "<br>"
   ]
  },
  {
   "cell_type": "markdown",
   "metadata": {},
   "source": [
    "Finalmente convertimos en categorías que luego podriamos ysar para generar nuevas features. Para esto filtramos los valores que ya existen en forma de categorías y observamos como se separan en cuartiles de acuerdo a su valor númerico. En base a esta nueva información realizamos una categorización acorde."
   ]
  },
  {
   "cell_type": "code",
   "execution_count": 242,
   "metadata": {},
   "outputs": [
    {
     "data": {
      "text/html": [
       "<div>\n",
       "<style scoped>\n",
       "    .dataframe tbody tr th:only-of-type {\n",
       "        vertical-align: middle;\n",
       "    }\n",
       "\n",
       "    .dataframe tbody tr th {\n",
       "        vertical-align: top;\n",
       "    }\n",
       "\n",
       "    .dataframe thead th {\n",
       "        text-align: right;\n",
       "    }\n",
       "</style>\n",
       "<table border=\"1\" class=\"dataframe\">\n",
       "  <thead>\n",
       "    <tr style=\"text-align: right;\">\n",
       "      <th></th>\n",
       "      <th>expenses</th>\n",
       "    </tr>\n",
       "  </thead>\n",
       "  <tbody>\n",
       "    <tr>\n",
       "      <th>count</th>\n",
       "      <td>16853.000</td>\n",
       "    </tr>\n",
       "    <tr>\n",
       "      <th>mean</th>\n",
       "      <td>3245.974</td>\n",
       "    </tr>\n",
       "    <tr>\n",
       "      <th>std</th>\n",
       "      <td>4739.637</td>\n",
       "    </tr>\n",
       "    <tr>\n",
       "      <th>min</th>\n",
       "      <td>0.000</td>\n",
       "    </tr>\n",
       "    <tr>\n",
       "      <th>25%</th>\n",
       "      <td>1000.000</td>\n",
       "    </tr>\n",
       "    <tr>\n",
       "      <th>50%</th>\n",
       "      <td>2000.000</td>\n",
       "    </tr>\n",
       "    <tr>\n",
       "      <th>75%</th>\n",
       "      <td>4000.000</td>\n",
       "    </tr>\n",
       "    <tr>\n",
       "      <th>max</th>\n",
       "      <td>230000.000</td>\n",
       "    </tr>\n",
       "  </tbody>\n",
       "</table>\n",
       "</div>"
      ],
      "text/plain": [
       "        expenses\n",
       "count  16853.000\n",
       "mean    3245.974\n",
       "std     4739.637\n",
       "min        0.000\n",
       "25%     1000.000\n",
       "50%     2000.000\n",
       "75%     4000.000\n",
       "max   230000.000"
      ]
     },
     "execution_count": 242,
     "metadata": {},
     "output_type": "execute_result"
    }
   ],
   "source": [
    "ignored_values = ['no informa', 'sin expensas', 'expensas bajas']\n",
    "masked_df = df[df['expenses'].isin(ignored_values) == False]\n",
    "\n",
    "\n",
    "# Realizamos una reconfiguración de tipo de datos\n",
    "masked_df['expenses'] = masked_df['expenses'].astype(float)\n",
    "\n",
    "\n",
    "# Aplicamos un indexado booleano\n",
    "mean = masked_df['expenses'].mean()\n",
    "std = masked_df['expenses'].std()\n",
    "masked_df = masked_df[masked_df['expenses'] < mean + (std*3)]\n",
    "\n",
    "\n",
    "# Realizamos un describe\n",
    "masked_df.loc[:, ['expenses']].describe()"
   ]
  },
  {
   "cell_type": "code",
   "execution_count": 243,
   "metadata": {},
   "outputs": [
    {
     "data": {
      "text/plain": [
       "expensas normales     8607\n",
       "expensas bajas        3657\n",
       "expensas altas        3348\n",
       "expensas muy altas    1241\n",
       "Name: dum_col, dtype: int64"
      ]
     },
     "execution_count": 243,
     "metadata": {},
     "output_type": "execute_result"
    }
   ],
   "source": [
    "# Iniciamos una nueva columna\n",
    "masked_df['dum_col'] = 0\n",
    "\n",
    "\n",
    "# Categorizamos de manera similar a lo generado con expresiones regulares\n",
    "masked_df['dum_col'][masked_df['expenses'] > 8000]= 'expensas muy altas'\n",
    "masked_df['dum_col'][(masked_df['expenses'] >= 4000) & (masked_df['expenses'] <= 8000) ]= 'expensas altas'\n",
    "masked_df['dum_col'][(masked_df['expenses'] >= 1000) & (masked_df['expenses'] < 4000) ]= 'expensas normales'\n",
    "masked_df['dum_col'][masked_df['expenses'] < 1000]= 'expensas bajas'\n",
    "\n",
    "\n",
    "# Analizamos los resultados\n",
    "masked_df['dum_col'].value_counts()"
   ]
  },
  {
   "cell_type": "markdown",
   "metadata": {},
   "source": [
    "<br>"
   ]
  },
  {
   "cell_type": "markdown",
   "metadata": {},
   "source": [
    "Aplicamos los resultados en el dataframe"
   ]
  },
  {
   "cell_type": "code",
   "execution_count": 245,
   "metadata": {},
   "outputs": [],
   "source": [
    "for index, value in zip(masked_df.index, masked_df['dum_col']):\n",
    "    df['expenses'].loc[index] = value"
   ]
  },
  {
   "cell_type": "markdown",
   "metadata": {},
   "source": [
    "<br>"
   ]
  },
  {
   "cell_type": "markdown",
   "metadata": {},
   "source": [
    "Filtramos outliers en expensas"
   ]
  },
  {
   "cell_type": "code",
   "execution_count": 246,
   "metadata": {},
   "outputs": [
    {
     "data": {
      "text/plain": [
       "no informa            95229\n",
       "expensas normales      8607\n",
       "expensas bajas         6129\n",
       "expensas altas         3348\n",
       "sin expensas           1574\n",
       "expensas muy altas     1241\n",
       "Name: expenses, dtype: int64"
      ]
     },
     "execution_count": 246,
     "metadata": {},
     "output_type": "execute_result"
    }
   ],
   "source": [
    "filtered_list = [element for element in df.expenses.unique() if isinstance(element, str)]\n",
    "df = df[df['expenses'].isin(filtered_list)]\n",
    "df['expenses'].value_counts()"
   ]
  },
  {
   "cell_type": "markdown",
   "metadata": {},
   "source": [
    "<br>"
   ]
  },
  {
   "cell_type": "markdown",
   "metadata": {},
   "source": [
    "Al plotear media y desvio estandar para cada una de las categorías observamos que \"expensas altas\" y \"no informa\" ambas tiene un desvío elevado. Si bien la primera puede ser eliminada como outliers debido a su bajo número y sustancial alejamiento del resto de los grupos, \"no informa\" es un caso más complejo debido a que representa una porción sustancial del dataset.<br>\n",
    "\n",
    "Se presentan dos caminos posibles:\n",
    "<li> Eliminar la columna de categorización de expensas debido a los datos faltantes.\n",
    "<li> Realizar un unstacking de los valores no informados en el resto de categorías realizando una inferencia basada en quantiles.\n",
    "</li>\n",
    "\n",
    "En un futuro sería posible correr el modelo sobre ambos datasets y analizar la performance, y por en consecuencia la precisión de la inferencia y utilidad de la categorización. <br> \n",
    "\n",
    "De momento procedemos a su elimiación y reservamos una copia para continuar el trabajo realizado.\n"
   ]
  },
  {
   "cell_type": "code",
   "execution_count": 367,
   "metadata": {},
   "outputs": [
    {
     "data": {
      "application/vnd.plotly.v1+json": {
       "config": {
        "plotlyServerURL": "https://plot.ly"
       },
       "data": [
        {
         "hovertemplate": "expenses=%{x}<br>y=%{y}<br>z=%{z}<extra></extra>",
         "legendgroup": "",
         "marker": {
          "color": "#636efa",
          "symbol": "circle"
         },
         "mode": "markers",
         "name": "",
         "scene": "scene",
         "showlegend": false,
         "type": "scatter3d",
         "x": [
          "expensas altas",
          "expensas bajas",
          "expensas muy altas",
          "expensas normales",
          "no informa",
          "sin expensas"
         ],
         "y": [
          364591.1935598086,
          147106.63002513014,
          716705.8020368745,
          162989.91095635114,
          245215.56146251105,
          160887.56347943356
         ],
         "z": [
          229720.82257011638,
          276446.36194268265,
          526869.3870272362,
          217651.0580803262,
          413726.63019406755,
          132006.77070260365
         ]
        }
       ],
       "layout": {
        "height": 600,
        "legend": {
         "tracegroupgap": 0
        },
        "margin": {
         "b": 10,
         "l": 10,
         "r": 20,
         "t": 10
        },
        "scene": {
         "domain": {
          "x": [
           0,
           1
          ],
          "y": [
           0,
           1
          ]
         },
         "xaxis": {
          "title": {
           "text": ""
          }
         },
         "yaxis": {
          "title": {
           "text": "price mean"
          }
         },
         "zaxis": {
          "title": {
           "text": "price dev"
          }
         }
        },
        "template": {
         "data": {
          "bar": [
           {
            "error_x": {
             "color": "#2a3f5f"
            },
            "error_y": {
             "color": "#2a3f5f"
            },
            "marker": {
             "line": {
              "color": "#E5ECF6",
              "width": 0.5
             },
             "pattern": {
              "fillmode": "overlay",
              "size": 10,
              "solidity": 0.2
             }
            },
            "type": "bar"
           }
          ],
          "barpolar": [
           {
            "marker": {
             "line": {
              "color": "#E5ECF6",
              "width": 0.5
             },
             "pattern": {
              "fillmode": "overlay",
              "size": 10,
              "solidity": 0.2
             }
            },
            "type": "barpolar"
           }
          ],
          "carpet": [
           {
            "aaxis": {
             "endlinecolor": "#2a3f5f",
             "gridcolor": "white",
             "linecolor": "white",
             "minorgridcolor": "white",
             "startlinecolor": "#2a3f5f"
            },
            "baxis": {
             "endlinecolor": "#2a3f5f",
             "gridcolor": "white",
             "linecolor": "white",
             "minorgridcolor": "white",
             "startlinecolor": "#2a3f5f"
            },
            "type": "carpet"
           }
          ],
          "choropleth": [
           {
            "colorbar": {
             "outlinewidth": 0,
             "ticks": ""
            },
            "type": "choropleth"
           }
          ],
          "contour": [
           {
            "colorbar": {
             "outlinewidth": 0,
             "ticks": ""
            },
            "colorscale": [
             [
              0,
              "#0d0887"
             ],
             [
              0.1111111111111111,
              "#46039f"
             ],
             [
              0.2222222222222222,
              "#7201a8"
             ],
             [
              0.3333333333333333,
              "#9c179e"
             ],
             [
              0.4444444444444444,
              "#bd3786"
             ],
             [
              0.5555555555555556,
              "#d8576b"
             ],
             [
              0.6666666666666666,
              "#ed7953"
             ],
             [
              0.7777777777777778,
              "#fb9f3a"
             ],
             [
              0.8888888888888888,
              "#fdca26"
             ],
             [
              1,
              "#f0f921"
             ]
            ],
            "type": "contour"
           }
          ],
          "contourcarpet": [
           {
            "colorbar": {
             "outlinewidth": 0,
             "ticks": ""
            },
            "type": "contourcarpet"
           }
          ],
          "heatmap": [
           {
            "colorbar": {
             "outlinewidth": 0,
             "ticks": ""
            },
            "colorscale": [
             [
              0,
              "#0d0887"
             ],
             [
              0.1111111111111111,
              "#46039f"
             ],
             [
              0.2222222222222222,
              "#7201a8"
             ],
             [
              0.3333333333333333,
              "#9c179e"
             ],
             [
              0.4444444444444444,
              "#bd3786"
             ],
             [
              0.5555555555555556,
              "#d8576b"
             ],
             [
              0.6666666666666666,
              "#ed7953"
             ],
             [
              0.7777777777777778,
              "#fb9f3a"
             ],
             [
              0.8888888888888888,
              "#fdca26"
             ],
             [
              1,
              "#f0f921"
             ]
            ],
            "type": "heatmap"
           }
          ],
          "heatmapgl": [
           {
            "colorbar": {
             "outlinewidth": 0,
             "ticks": ""
            },
            "colorscale": [
             [
              0,
              "#0d0887"
             ],
             [
              0.1111111111111111,
              "#46039f"
             ],
             [
              0.2222222222222222,
              "#7201a8"
             ],
             [
              0.3333333333333333,
              "#9c179e"
             ],
             [
              0.4444444444444444,
              "#bd3786"
             ],
             [
              0.5555555555555556,
              "#d8576b"
             ],
             [
              0.6666666666666666,
              "#ed7953"
             ],
             [
              0.7777777777777778,
              "#fb9f3a"
             ],
             [
              0.8888888888888888,
              "#fdca26"
             ],
             [
              1,
              "#f0f921"
             ]
            ],
            "type": "heatmapgl"
           }
          ],
          "histogram": [
           {
            "marker": {
             "pattern": {
              "fillmode": "overlay",
              "size": 10,
              "solidity": 0.2
             }
            },
            "type": "histogram"
           }
          ],
          "histogram2d": [
           {
            "colorbar": {
             "outlinewidth": 0,
             "ticks": ""
            },
            "colorscale": [
             [
              0,
              "#0d0887"
             ],
             [
              0.1111111111111111,
              "#46039f"
             ],
             [
              0.2222222222222222,
              "#7201a8"
             ],
             [
              0.3333333333333333,
              "#9c179e"
             ],
             [
              0.4444444444444444,
              "#bd3786"
             ],
             [
              0.5555555555555556,
              "#d8576b"
             ],
             [
              0.6666666666666666,
              "#ed7953"
             ],
             [
              0.7777777777777778,
              "#fb9f3a"
             ],
             [
              0.8888888888888888,
              "#fdca26"
             ],
             [
              1,
              "#f0f921"
             ]
            ],
            "type": "histogram2d"
           }
          ],
          "histogram2dcontour": [
           {
            "colorbar": {
             "outlinewidth": 0,
             "ticks": ""
            },
            "colorscale": [
             [
              0,
              "#0d0887"
             ],
             [
              0.1111111111111111,
              "#46039f"
             ],
             [
              0.2222222222222222,
              "#7201a8"
             ],
             [
              0.3333333333333333,
              "#9c179e"
             ],
             [
              0.4444444444444444,
              "#bd3786"
             ],
             [
              0.5555555555555556,
              "#d8576b"
             ],
             [
              0.6666666666666666,
              "#ed7953"
             ],
             [
              0.7777777777777778,
              "#fb9f3a"
             ],
             [
              0.8888888888888888,
              "#fdca26"
             ],
             [
              1,
              "#f0f921"
             ]
            ],
            "type": "histogram2dcontour"
           }
          ],
          "mesh3d": [
           {
            "colorbar": {
             "outlinewidth": 0,
             "ticks": ""
            },
            "type": "mesh3d"
           }
          ],
          "parcoords": [
           {
            "line": {
             "colorbar": {
              "outlinewidth": 0,
              "ticks": ""
             }
            },
            "type": "parcoords"
           }
          ],
          "pie": [
           {
            "automargin": true,
            "type": "pie"
           }
          ],
          "scatter": [
           {
            "marker": {
             "colorbar": {
              "outlinewidth": 0,
              "ticks": ""
             }
            },
            "type": "scatter"
           }
          ],
          "scatter3d": [
           {
            "line": {
             "colorbar": {
              "outlinewidth": 0,
              "ticks": ""
             }
            },
            "marker": {
             "colorbar": {
              "outlinewidth": 0,
              "ticks": ""
             }
            },
            "type": "scatter3d"
           }
          ],
          "scattercarpet": [
           {
            "marker": {
             "colorbar": {
              "outlinewidth": 0,
              "ticks": ""
             }
            },
            "type": "scattercarpet"
           }
          ],
          "scattergeo": [
           {
            "marker": {
             "colorbar": {
              "outlinewidth": 0,
              "ticks": ""
             }
            },
            "type": "scattergeo"
           }
          ],
          "scattergl": [
           {
            "marker": {
             "colorbar": {
              "outlinewidth": 0,
              "ticks": ""
             }
            },
            "type": "scattergl"
           }
          ],
          "scattermapbox": [
           {
            "marker": {
             "colorbar": {
              "outlinewidth": 0,
              "ticks": ""
             }
            },
            "type": "scattermapbox"
           }
          ],
          "scatterpolar": [
           {
            "marker": {
             "colorbar": {
              "outlinewidth": 0,
              "ticks": ""
             }
            },
            "type": "scatterpolar"
           }
          ],
          "scatterpolargl": [
           {
            "marker": {
             "colorbar": {
              "outlinewidth": 0,
              "ticks": ""
             }
            },
            "type": "scatterpolargl"
           }
          ],
          "scatterternary": [
           {
            "marker": {
             "colorbar": {
              "outlinewidth": 0,
              "ticks": ""
             }
            },
            "type": "scatterternary"
           }
          ],
          "surface": [
           {
            "colorbar": {
             "outlinewidth": 0,
             "ticks": ""
            },
            "colorscale": [
             [
              0,
              "#0d0887"
             ],
             [
              0.1111111111111111,
              "#46039f"
             ],
             [
              0.2222222222222222,
              "#7201a8"
             ],
             [
              0.3333333333333333,
              "#9c179e"
             ],
             [
              0.4444444444444444,
              "#bd3786"
             ],
             [
              0.5555555555555556,
              "#d8576b"
             ],
             [
              0.6666666666666666,
              "#ed7953"
             ],
             [
              0.7777777777777778,
              "#fb9f3a"
             ],
             [
              0.8888888888888888,
              "#fdca26"
             ],
             [
              1,
              "#f0f921"
             ]
            ],
            "type": "surface"
           }
          ],
          "table": [
           {
            "cells": {
             "fill": {
              "color": "#EBF0F8"
             },
             "line": {
              "color": "white"
             }
            },
            "header": {
             "fill": {
              "color": "#C8D4E3"
             },
             "line": {
              "color": "white"
             }
            },
            "type": "table"
           }
          ]
         },
         "layout": {
          "annotationdefaults": {
           "arrowcolor": "#2a3f5f",
           "arrowhead": 0,
           "arrowwidth": 1
          },
          "autotypenumbers": "strict",
          "coloraxis": {
           "colorbar": {
            "outlinewidth": 0,
            "ticks": ""
           }
          },
          "colorscale": {
           "diverging": [
            [
             0,
             "#8e0152"
            ],
            [
             0.1,
             "#c51b7d"
            ],
            [
             0.2,
             "#de77ae"
            ],
            [
             0.3,
             "#f1b6da"
            ],
            [
             0.4,
             "#fde0ef"
            ],
            [
             0.5,
             "#f7f7f7"
            ],
            [
             0.6,
             "#e6f5d0"
            ],
            [
             0.7,
             "#b8e186"
            ],
            [
             0.8,
             "#7fbc41"
            ],
            [
             0.9,
             "#4d9221"
            ],
            [
             1,
             "#276419"
            ]
           ],
           "sequential": [
            [
             0,
             "#0d0887"
            ],
            [
             0.1111111111111111,
             "#46039f"
            ],
            [
             0.2222222222222222,
             "#7201a8"
            ],
            [
             0.3333333333333333,
             "#9c179e"
            ],
            [
             0.4444444444444444,
             "#bd3786"
            ],
            [
             0.5555555555555556,
             "#d8576b"
            ],
            [
             0.6666666666666666,
             "#ed7953"
            ],
            [
             0.7777777777777778,
             "#fb9f3a"
            ],
            [
             0.8888888888888888,
             "#fdca26"
            ],
            [
             1,
             "#f0f921"
            ]
           ],
           "sequentialminus": [
            [
             0,
             "#0d0887"
            ],
            [
             0.1111111111111111,
             "#46039f"
            ],
            [
             0.2222222222222222,
             "#7201a8"
            ],
            [
             0.3333333333333333,
             "#9c179e"
            ],
            [
             0.4444444444444444,
             "#bd3786"
            ],
            [
             0.5555555555555556,
             "#d8576b"
            ],
            [
             0.6666666666666666,
             "#ed7953"
            ],
            [
             0.7777777777777778,
             "#fb9f3a"
            ],
            [
             0.8888888888888888,
             "#fdca26"
            ],
            [
             1,
             "#f0f921"
            ]
           ]
          },
          "colorway": [
           "#636efa",
           "#EF553B",
           "#00cc96",
           "#ab63fa",
           "#FFA15A",
           "#19d3f3",
           "#FF6692",
           "#B6E880",
           "#FF97FF",
           "#FECB52"
          ],
          "font": {
           "color": "#2a3f5f"
          },
          "geo": {
           "bgcolor": "white",
           "lakecolor": "white",
           "landcolor": "#E5ECF6",
           "showlakes": true,
           "showland": true,
           "subunitcolor": "white"
          },
          "hoverlabel": {
           "align": "left"
          },
          "hovermode": "closest",
          "mapbox": {
           "style": "light"
          },
          "paper_bgcolor": "white",
          "plot_bgcolor": "#E5ECF6",
          "polar": {
           "angularaxis": {
            "gridcolor": "white",
            "linecolor": "white",
            "ticks": ""
           },
           "bgcolor": "#E5ECF6",
           "radialaxis": {
            "gridcolor": "white",
            "linecolor": "white",
            "ticks": ""
           }
          },
          "scene": {
           "xaxis": {
            "backgroundcolor": "#E5ECF6",
            "gridcolor": "white",
            "gridwidth": 2,
            "linecolor": "white",
            "showbackground": true,
            "ticks": "",
            "zerolinecolor": "white"
           },
           "yaxis": {
            "backgroundcolor": "#E5ECF6",
            "gridcolor": "white",
            "gridwidth": 2,
            "linecolor": "white",
            "showbackground": true,
            "ticks": "",
            "zerolinecolor": "white"
           },
           "zaxis": {
            "backgroundcolor": "#E5ECF6",
            "gridcolor": "white",
            "gridwidth": 2,
            "linecolor": "white",
            "showbackground": true,
            "ticks": "",
            "zerolinecolor": "white"
           }
          },
          "shapedefaults": {
           "line": {
            "color": "#2a3f5f"
           }
          },
          "ternary": {
           "aaxis": {
            "gridcolor": "white",
            "linecolor": "white",
            "ticks": ""
           },
           "baxis": {
            "gridcolor": "white",
            "linecolor": "white",
            "ticks": ""
           },
           "bgcolor": "#E5ECF6",
           "caxis": {
            "gridcolor": "white",
            "linecolor": "white",
            "ticks": ""
           }
          },
          "title": {
           "x": 0.05
          },
          "xaxis": {
           "automargin": true,
           "gridcolor": "white",
           "linecolor": "white",
           "ticks": "",
           "title": {
            "standoff": 15
           },
           "zerolinecolor": "white",
           "zerolinewidth": 2
          },
          "yaxis": {
           "automargin": true,
           "gridcolor": "white",
           "linecolor": "white",
           "ticks": "",
           "title": {
            "standoff": 15
           },
           "zerolinecolor": "white",
           "zerolinewidth": 2
          }
         }
        },
        "width": 700
       }
      }
     },
     "metadata": {},
     "output_type": "display_data"
    },
    {
     "data": {
      "text/html": [
       "<div>\n",
       "<style scoped>\n",
       "    .dataframe tbody tr th:only-of-type {\n",
       "        vertical-align: middle;\n",
       "    }\n",
       "\n",
       "    .dataframe tbody tr th {\n",
       "        vertical-align: top;\n",
       "    }\n",
       "\n",
       "    .dataframe thead tr th {\n",
       "        text-align: left;\n",
       "    }\n",
       "\n",
       "    .dataframe thead tr:last-of-type th {\n",
       "        text-align: right;\n",
       "    }\n",
       "</style>\n",
       "<table border=\"1\" class=\"dataframe\">\n",
       "  <thead>\n",
       "    <tr>\n",
       "      <th></th>\n",
       "      <th colspan=\"2\" halign=\"left\">price_usd</th>\n",
       "    </tr>\n",
       "    <tr>\n",
       "      <th></th>\n",
       "      <th>mean</th>\n",
       "      <th>std</th>\n",
       "    </tr>\n",
       "    <tr>\n",
       "      <th>expenses</th>\n",
       "      <th></th>\n",
       "      <th></th>\n",
       "    </tr>\n",
       "  </thead>\n",
       "  <tbody>\n",
       "    <tr>\n",
       "      <th>expensas altas</th>\n",
       "      <td>364591.194</td>\n",
       "      <td>229720.823</td>\n",
       "    </tr>\n",
       "    <tr>\n",
       "      <th>expensas bajas</th>\n",
       "      <td>147106.630</td>\n",
       "      <td>276446.362</td>\n",
       "    </tr>\n",
       "    <tr>\n",
       "      <th>expensas muy altas</th>\n",
       "      <td>716705.802</td>\n",
       "      <td>526869.387</td>\n",
       "    </tr>\n",
       "    <tr>\n",
       "      <th>expensas normales</th>\n",
       "      <td>162989.911</td>\n",
       "      <td>217651.058</td>\n",
       "    </tr>\n",
       "    <tr>\n",
       "      <th>no informa</th>\n",
       "      <td>245215.561</td>\n",
       "      <td>413726.630</td>\n",
       "    </tr>\n",
       "    <tr>\n",
       "      <th>sin expensas</th>\n",
       "      <td>160887.563</td>\n",
       "      <td>132006.771</td>\n",
       "    </tr>\n",
       "  </tbody>\n",
       "</table>\n",
       "</div>"
      ],
      "text/plain": [
       "                    price_usd           \n",
       "                         mean        std\n",
       "expenses                                \n",
       "expensas altas     364591.194 229720.823\n",
       "expensas bajas     147106.630 276446.362\n",
       "expensas muy altas 716705.802 526869.387\n",
       "expensas normales  162989.911 217651.058\n",
       "no informa         245215.561 413726.630\n",
       "sin expensas       160887.563 132006.771"
      ]
     },
     "execution_count": 367,
     "metadata": {},
     "output_type": "execute_result"
    }
   ],
   "source": [
    "# Agrupamos para calcular mean y std para cada nivel de expensas\n",
    "expenses_mean_for_price = df.loc[:, ['expenses', 'price_usd']].groupby(['expenses']).agg(['mean', 'std'])\n",
    "\n",
    "\n",
    "# Ploteamos \n",
    "fig = px.scatter_3d(expenses_mean_for_price, x=expenses_mean_for_price.index, y=expenses_mean_for_price['price_usd']['mean'].tolist(), z=expenses_mean_for_price['price_usd']['std'].tolist(), width=800, height=600)\n",
    "fig.update_layout(scene = dict(\n",
    "                    xaxis_title='',\n",
    "                    yaxis_title='price mean',\n",
    "                    zaxis_title='price dev'),\n",
    "                    width=700,\n",
    "                    margin=dict(r=20, b=10, l=10, t=10))\n",
    "fig.show()\n",
    "\n",
    "\n",
    "# Devolvemos el dataframe agrupado\n",
    "expenses_mean_for_price"
   ]
  },
  {
   "cell_type": "code",
   "execution_count": 369,
   "metadata": {},
   "outputs": [],
   "source": [
    "# Realizamos la copia\n",
    "expensas_wip = df\n",
    "\n",
    "\n",
    "# Corregimos el df\n",
    "df = df.drop(columns=['expenses'])"
   ]
  },
  {
   "cell_type": "markdown",
   "metadata": {},
   "source": [
    "## Dormitorios"
   ]
  },
  {
   "cell_type": "code",
   "execution_count": null,
   "metadata": {},
   "outputs": [
    {
     "data": {
      "text/plain": [
       "Series([], Name: description, dtype: int64)"
      ]
     },
     "execution_count": 102,
     "metadata": {},
     "output_type": "execute_result"
    }
   ],
   "source": [
    "df['description'].str.find('MONOAMBIENTE')[df['description'].str.find('MONOAMBIENTE')!= -1]"
   ]
  },
  {
   "cell_type": "code",
   "execution_count": null,
   "metadata": {},
   "outputs": [
    {
     "data": {
      "text/plain": [
       "7          10\n",
       "45          8\n",
       "66        271\n",
       "74         25\n",
       "100       149\n",
       "         ... \n",
       "121136     10\n",
       "121137     10\n",
       "121152      0\n",
       "121158     75\n",
       "121217    109\n",
       "Name: description, Length: 6921, dtype: int64"
      ]
     },
     "execution_count": 103,
     "metadata": {},
     "output_type": "execute_result"
    }
   ],
   "source": [
    "df['description'].str.find('monoambiente')[df['description'].str.find('monoambiente')!= -1]"
   ]
  },
  {
   "cell_type": "code",
   "execution_count": null,
   "metadata": {},
   "outputs": [
    {
     "data": {
      "text/plain": [
       "207       198\n",
       "208       198\n",
       "218       198\n",
       "530        27\n",
       "532        35\n",
       "         ... \n",
       "119552     71\n",
       "119743    107\n",
       "119795    284\n",
       "120018    403\n",
       "120206    110\n",
       "Name: description, Length: 660, dtype: int64"
      ]
     },
     "execution_count": 104,
     "metadata": {},
     "output_type": "execute_result"
    }
   ],
   "source": [
    "df['description'].str.find('mono ambiente')[df['description'].str.find('mono ambiente')!= -1]"
   ]
  },
  {
   "cell_type": "code",
   "execution_count": null,
   "metadata": {},
   "outputs": [
    {
     "data": {
      "text/plain": [
       "Series([], Name: description, dtype: int64)"
      ]
     },
     "execution_count": 105,
     "metadata": {},
     "output_type": "execute_result"
    }
   ],
   "source": [
    "df['description'].str.find('MONO AMBIENTE')[df['description'].str.find('MONO AMBIENTE')!= -1]"
   ]
  },
  {
   "cell_type": "code",
   "execution_count": null,
   "metadata": {},
   "outputs": [
    {
     "data": {
      "text/plain": [
       "0         181\n",
       "1         210\n",
       "2          97\n",
       "4         146\n",
       "5         167\n",
       "         ... \n",
       "121212    309\n",
       "121213    319\n",
       "121215    157\n",
       "121216    455\n",
       "121218     99\n",
       "Name: description, Length: 75515, dtype: int64"
      ]
     },
     "execution_count": 106,
     "metadata": {},
     "output_type": "execute_result"
    }
   ],
   "source": [
    "df['description'].str.find('dormitorio')[df['description'].str.find('dormitorio')!= -1]"
   ]
  },
  {
   "cell_type": "code",
   "execution_count": null,
   "metadata": {},
   "outputs": [
    {
     "data": {
      "text/plain": [
       "Series([], Name: description, dtype: int64)"
      ]
     },
     "execution_count": 107,
     "metadata": {},
     "output_type": "execute_result"
    }
   ],
   "source": [
    "df['description'].str.find('DORMITORIO')[df['description'].str.find('DORMITORIO')!= -1]"
   ]
  },
  {
   "cell_type": "markdown",
   "metadata": {},
   "source": [
    "## Otros"
   ]
  },
  {
   "cell_type": "code",
   "execution_count": null,
   "metadata": {},
   "outputs": [
    {
     "data": {
      "image/png": "[encoded data removed]",
      "text/plain": [
       "<Figure size 1080x720 with 4 Axes>"
      ]
     },
     "metadata": {},
     "output_type": "display_data"
    },
    {
     "data": {
      "image/png": "[encoded data removed]",
      "text/plain": [
       "<Figure size 1080x720 with 4 Axes>"
      ]
     },
     "metadata": {},
     "output_type": "display_data"
    }
   ],
   "source": [
    "targets = ['price_usd', 'price_per_m2']\n",
    "\n",
    "def multi_variate_analysis(targets):\n",
    "    columns = [column for column in df.columns if len(df[column].value_counts().index) > 1 and len(df[column].value_counts().index) < 50]\n",
    "\n",
    "    if len(columns) % 2 == 0:\n",
    "        rows = round(len(columns) / 2)\n",
    "    else:\n",
    "        rows = round(len(columns) / 2) + 1\n",
    "\n",
    "\n",
    "    for target in targets:\n",
    "\n",
    "        globals()['fig' + target], axes = plt.subplots(rows, 2, figsize=(15, 10))\n",
    "        globals()['fig' + target].suptitle(f'Multi variate analysis based on {target}')\n",
    "\n",
    "\n",
    "        for column, (i, ax) in zip(columns, enumerate(globals()['fig' + target].axes)):\n",
    "            \n",
    "            group_df = df[[column, target]].groupby(by=[column]).mean(target)\n",
    "            sn.barplot(x=group_df.index.tolist(), y=group_df[target].tolist(), ax=ax)\n",
    "            \n",
    "            if df[column].dtype == 'float64':\n",
    "                ax.set_xticks([round(len(df[column].value_counts().index)/3), round(len(df[column].value_counts().index)* (2/3)) , len(df[column].value_counts().index)])\n",
    "            elif df[column].dtype == 'O' and len(df[column].value_counts().index) > 15:\n",
    "                ax.set_axis_off()\n",
    "\n",
    "            ax.set_title(column)\n",
    "\n",
    "multi_variate_analysis(targets)"
   ]
  },
  {
   "cell_type": "code",
   "execution_count": null,
   "metadata": {},
   "outputs": [
    {
     "ename": "ModuleNotFoundError",
     "evalue": "No module named 'spa2num'",
     "output_type": "error",
     "traceback": [
      "\u001b[1;31m---------------------------------------------------------------------------\u001b[0m",
      "\u001b[1;31mModuleNotFoundError\u001b[0m                       Traceback (most recent call last)",
      "\u001b[1;32m~\\AppData\\Local\\Temp/ipykernel_53736/3038311077.py\u001b[0m in \u001b[0;36m<module>\u001b[1;34m\u001b[0m\n\u001b[1;32m----> 1\u001b[1;33m \u001b[1;32mfrom\u001b[0m \u001b[0mspa2num\u001b[0m\u001b[1;33m.\u001b[0m\u001b[0mconverter\u001b[0m \u001b[1;32mimport\u001b[0m \u001b[0mto_number\u001b[0m\u001b[1;33m\u001b[0m\u001b[1;33m\u001b[0m\u001b[0m\n\u001b[0m\u001b[0;32m      2\u001b[0m \u001b[1;33m\u001b[0m\u001b[0m\n\u001b[0;32m      3\u001b[0m \u001b[1;33m\u001b[0m\u001b[0m\n\u001b[0;32m      4\u001b[0m \u001b[1;32mfor\u001b[0m \u001b[0mdescription\u001b[0m\u001b[1;33m,\u001b[0m \u001b[0mrooms\u001b[0m\u001b[1;33m,\u001b[0m \u001b[0mindex\u001b[0m \u001b[1;32min\u001b[0m \u001b[0mzip\u001b[0m\u001b[1;33m(\u001b[0m\u001b[0mdf\u001b[0m\u001b[1;33m[\u001b[0m\u001b[1;34m'description'\u001b[0m\u001b[1;33m]\u001b[0m\u001b[1;33m,\u001b[0m \u001b[0mdf\u001b[0m\u001b[1;33m[\u001b[0m\u001b[1;34m'rooms'\u001b[0m\u001b[1;33m]\u001b[0m\u001b[1;33m,\u001b[0m \u001b[0mdf\u001b[0m\u001b[1;33m.\u001b[0m\u001b[0mindex\u001b[0m\u001b[1;33m)\u001b[0m\u001b[1;33m:\u001b[0m\u001b[1;33m\u001b[0m\u001b[1;33m\u001b[0m\u001b[0m\n\u001b[0;32m      5\u001b[0m     \u001b[0mdescription\u001b[0m \u001b[1;33m=\u001b[0m \u001b[0mre\u001b[0m\u001b[1;33m.\u001b[0m\u001b[0msub\u001b[0m\u001b[1;33m(\u001b[0m\u001b[1;34m' +'\u001b[0m\u001b[1;33m,\u001b[0m \u001b[1;34m' '\u001b[0m\u001b[1;33m,\u001b[0m \u001b[0mdescription\u001b[0m\u001b[1;33m.\u001b[0m\u001b[0mlower\u001b[0m\u001b[1;33m(\u001b[0m\u001b[1;33m)\u001b[0m\u001b[1;33m)\u001b[0m\u001b[1;33m\u001b[0m\u001b[1;33m\u001b[0m\u001b[0m\n",
      "\u001b[1;31mModuleNotFoundError\u001b[0m: No module named 'spa2num'"
     ]
    }
   ],
   "source": [
    "from spa2num.converter import to_number\n",
    "\n",
    "\n",
    "for description, rooms, index in zip(df['description'], df['rooms'], df.index):\n",
    "    description = re.sub(' +', ' ', description.lower())\n",
    "    temp_list = description.lower().split(' ')\n",
    "    \n",
    "    if 'monoambiente' in temp_list:\n",
    "        rooms = 1\n",
    "    elif 'mono' in temp_list:\n",
    "        rooms = 1\n",
    "    elif 'ambientes' in temp_list:\n",
    "        rooms = temp_list[temp_list.index('ambientes') - 1]\n",
    "    elif 'ambiente' in temp_list:\n",
    "        rooms = temp_list[temp_list.index('ambiente') - 1]\n",
    "    elif 'rooms' in temp_list:\n",
    "        rooms = temp_list[temp_list.index('rooms') - 1]\n",
    "        print(rooms,index)\n",
    " \n",
    "    if isinstance(rooms, int) is True:\n",
    "        df['rooms'].loc[index] = rooms\n",
    "    elif isinstance(rooms, str) is True:\n",
    "        try:\n",
    "            rooms = to_number(rooms)\n",
    "            if isinstance(rooms, int) is True:\n",
    "                df['rooms'].loc[index] = rooms\n",
    "        except:\n",
    "            pass\n"
   ]
  },
  {
   "cell_type": "code",
   "execution_count": null,
   "metadata": {},
   "outputs": [
    {
     "data": {
      "text/plain": [
       "53660"
      ]
     },
     "execution_count": 32,
     "metadata": {},
     "output_type": "execute_result"
    }
   ],
   "source": [
    "df['rooms'].isnull().sum()"
   ]
  },
  {
   "cell_type": "code",
   "execution_count": null,
   "metadata": {},
   "outputs": [
    {
     "data": {
      "text/html": [
       "<div>\n",
       "<style scoped>\n",
       "    .dataframe tbody tr th:only-of-type {\n",
       "        vertical-align: middle;\n",
       "    }\n",
       "\n",
       "    .dataframe tbody tr th {\n",
       "        vertical-align: top;\n",
       "    }\n",
       "\n",
       "    .dataframe thead th {\n",
       "        text-align: right;\n",
       "    }\n",
       "</style>\n",
       "<table border=\"1\" class=\"dataframe\">\n",
       "  <thead>\n",
       "    <tr style=\"text-align: right;\">\n",
       "      <th></th>\n",
       "      <th>rooms</th>\n",
       "      <th>description</th>\n",
       "    </tr>\n",
       "  </thead>\n",
       "  <tbody>\n",
       "    <tr>\n",
       "      <th>18</th>\n",
       "      <td>NaN</td>\n",
       "      <td>Casa sobre lote al golf en barrio San Isidro L...</td>\n",
       "    </tr>\n",
       "    <tr>\n",
       "      <th>22</th>\n",
       "      <td>NaN</td>\n",
       "      <td>Edificada en 2 plantas. PB. amplio living con ...</td>\n",
       "    </tr>\n",
       "    <tr>\n",
       "      <th>58</th>\n",
       "      <td>NaN</td>\n",
       "      <td>Magnífica residencia con calidad de construcci...</td>\n",
       "    </tr>\n",
       "    <tr>\n",
       "      <th>100</th>\n",
       "      <td>NaN</td>\n",
       "      <td>San Nicolás 365ENTREGA INMEDIATA.Edificio de e...</td>\n",
       "    </tr>\n",
       "    <tr>\n",
       "      <th>101</th>\n",
       "      <td>NaN</td>\n",
       "      <td>Tucuman 3476Edificio PB y 4 pisos por ascensor...</td>\n",
       "    </tr>\n",
       "    <tr>\n",
       "      <th>...</th>\n",
       "      <td>...</td>\n",
       "      <td>...</td>\n",
       "    </tr>\n",
       "    <tr>\n",
       "      <th>121200</th>\n",
       "      <td>NaN</td>\n",
       "      <td>UBICACIÓNEstratégicamente ubicado en calle Obi...</td>\n",
       "    </tr>\n",
       "    <tr>\n",
       "      <th>121202</th>\n",
       "      <td>NaN</td>\n",
       "      <td>UBICACIÓNEstratégicamente ubicado en calle Obi...</td>\n",
       "    </tr>\n",
       "    <tr>\n",
       "      <th>121203</th>\n",
       "      <td>NaN</td>\n",
       "      <td>UBICACIÓNEstratégicamente ubicado en calle Obi...</td>\n",
       "    </tr>\n",
       "    <tr>\n",
       "      <th>121205</th>\n",
       "      <td>NaN</td>\n",
       "      <td>UBICACIÓNEstratégicamente ubicado en calle Obi...</td>\n",
       "    </tr>\n",
       "    <tr>\n",
       "      <th>121211</th>\n",
       "      <td>NaN</td>\n",
       "      <td>Excelente departamento de categoría con vistas...</td>\n",
       "    </tr>\n",
       "  </tbody>\n",
       "</table>\n",
       "<p>8943 rows × 2 columns</p>\n",
       "</div>"
      ],
      "text/plain": [
       "        rooms                                        description\n",
       "18        NaN  Casa sobre lote al golf en barrio San Isidro L...\n",
       "22        NaN  Edificada en 2 plantas. PB. amplio living con ...\n",
       "58        NaN  Magnífica residencia con calidad de construcci...\n",
       "100       NaN  San Nicolás 365ENTREGA INMEDIATA.Edificio de e...\n",
       "101       NaN  Tucuman 3476Edificio PB y 4 pisos por ascensor...\n",
       "...       ...                                                ...\n",
       "121200    NaN  UBICACIÓNEstratégicamente ubicado en calle Obi...\n",
       "121202    NaN  UBICACIÓNEstratégicamente ubicado en calle Obi...\n",
       "121203    NaN  UBICACIÓNEstratégicamente ubicado en calle Obi...\n",
       "121205    NaN  UBICACIÓNEstratégicamente ubicado en calle Obi...\n",
       "121211    NaN  Excelente departamento de categoría con vistas...\n",
       "\n",
       "[8943 rows x 2 columns]"
      ]
     },
     "execution_count": 33,
     "metadata": {},
     "output_type": "execute_result"
    }
   ],
   "source": [
    "temp_df = df[['rooms', 'description']]\n",
    "temp_df = temp_df[temp_df['rooms'].isnull()==True]\n",
    "temp_df = temp_df.loc[temp_df['description'].str.contains('ambiente')]\n",
    "\n",
    "\n",
    "temp_df\n",
    "# df.loc[df['description'].str.contains('room')]"
   ]
  },
  {
   "cell_type": "code",
   "execution_count": null,
   "metadata": {
    "pycharm": {
     "name": "#%%\n"
    }
   },
   "outputs": [],
   "source": [
    "test = correlation_matrix(df, 'PROPERATY', rtn=False)"
   ]
  },
  {
   "cell_type": "code",
   "execution_count": null,
   "metadata": {},
   "outputs": [
    {
     "data": {
      "text/plain": [
       "2    467\n",
       "3    323\n",
       "4    131\n",
       "5     13\n",
       "1      2\n",
       "7      2\n",
       "6      2\n",
       "Name: description, dtype: int64"
      ]
     },
     "execution_count": 36,
     "metadata": {},
     "output_type": "execute_result"
    }
   ],
   "source": [
    "expresion = \"(\\d)\\s(?:ambientes)|(?:room)\"\n",
    "\n",
    "y = re.compile(expresion)\n",
    "\n",
    "\n",
    "new = df['description'].apply(lambda x: y.match(x.lower()).group(1) if y.match(x.lower()) is not None else None)\n",
    "new.value_counts()"
   ]
  },
  {
   "cell_type": "code",
   "execution_count": null,
   "metadata": {},
   "outputs": [
    {
     "data": {
      "text/plain": [
       "' 1119-AE029 Rosario: Balcarce 45 bis DPTO 01 (Piso 6) Edificio Quadra LVI: TOTAL 32,5 m2 + balcn 4,9 m2 (Monoambiente amueblado, balcn, divisible) al frente - Entrega Inmediata. Amplia financiacin. Amenities: Quincho, Piscina, Gimnasio, Solarium. Opcional: Cochera y baulera. Forma de pago: Fideicomiso: Unidades en construccin desde el pozo. Entrega 50 (por ciento) al boleto y resto 11 cuotas mensuales ajustables con el Indice de la C.A.C. Se ajusta un 1,5 (por ciento) mensual adicional al momento de la posesin.  El departamento cuenta con artefactos elctricos (cocina y termotanque). Detalles: Un moderno diseo arquitectnico que se desarrolla en 7 pisos compuesto por departamentos monoambientes, 2 y 3 dormitorios, 2 niveles de estacionamiento y Amenities (quincho, pileta, solarium y gimnasio). En pleno centro de Rosario y cerca del Ro. El emprendimiento propone espacios muy luminosos y confortables, tanto para vivienda como para uso profesional, lo que da como resultado una excelente inversin. Calidad Constructiva: Estructura independiente de hormigon armado. Manposteria exterior doble de hormigon con aislacion hidraulica. Ascensor multivelocidades y puertas automaticas en todos los pisos. Portero electronico. Pisos flotantes melaminicos en dormitorios y estar comedor. Pisos y revestimientos ceramicos esmaltados en baos y cocinas. Muebles de cocina con mesada de granito y pileta de acero inoxidable. Cocina con horno y calefon instalados. Equipamiento de cocina con bajo mesadas y alacenas. Paredes en hormigon visto y otras enduidas en yeso y terminadas al latex. Aberturas exteriores de aluminio. Puertas interiores de madera lustrada o laqueada. Frentes de placard enchapados en melamina a tono. Artefactos sanitarios y griferia de primera linea. Conexion electrica y desagues embutidos para splits. Sector de baulera. Constructora de renombre con mas de 40 aos de trayectoria en nuestro pais. Entorno: Pleno microcentro de Rosario con vista parcial al ro. Cercano a avenidas importantes y parques.Microcentro rosarino: En el Distrito Centro se encuentra el casco histrico y el distrito financiero de la ciudad, por lo que las inversiones inmobiliarias ms importantes de fines del Siglo XIX y primera mitad del Siglo XX se hicieron aqu. Gran parte de la vida turstica de la ciudad pasa por este distrito. Adems el Monumento Histrico Nacional a la Bandera y las peatonales Crdoba, que une el Monumento con el Paseo del Siglo (un paseo de compras), y San Martn. Adems, la mayor parte de los hoteles se encuentran en este distrito. El Distrito Centro es el ms poblado de Rosario. Tiene 228.290 habitantes, lo que representa ms del 25% del total de la poblacin de la ciudad. La gran mayora de las Facultades e Institutos dependientes de la Universidad Nacional de Rosario se ubican en este distrito. Al ser un polo de atraccin de la poblacin de otros distritos, el sistema de trasporte est organizado a partir de este distrito. .Publicado por Escauriza Muoz Propiedades a traves INMOMAP'"
      ]
     },
     "execution_count": 38,
     "metadata": {},
     "output_type": "execute_result"
    }
   ],
   "source": [
    "df.loc[25288]['description']"
   ]
  },
  {
   "cell_type": "markdown",
   "metadata": {},
   "source": [
    "<br>"
   ]
  },
  {
   "cell_type": "markdown",
   "metadata": {},
   "source": [
    "<br>"
   ]
  },
  {
   "cell_type": "markdown",
   "metadata": {},
   "source": [
    "## Creación de columnas con valor predictivo"
   ]
  },
  {
   "cell_type": "markdown",
   "metadata": {},
   "source": [
    "#### Indentificar si la propiedad tiene un espacio exterior <br>"
   ]
  },
  {
   "cell_type": "code",
   "execution_count": null,
   "metadata": {},
   "outputs": [
    {
     "data": {
      "text/html": [
       "<div>\n",
       "<style scoped>\n",
       "    .dataframe tbody tr th:only-of-type {\n",
       "        vertical-align: middle;\n",
       "    }\n",
       "\n",
       "    .dataframe tbody tr th {\n",
       "        vertical-align: top;\n",
       "    }\n",
       "\n",
       "    .dataframe thead th {\n",
       "        text-align: right;\n",
       "    }\n",
       "</style>\n",
       "<table border=\"1\" class=\"dataframe\">\n",
       "  <thead>\n",
       "    <tr style=\"text-align: right;\">\n",
       "      <th></th>\n",
       "      <th>description</th>\n",
       "      <th>desc_lower</th>\n",
       "      <th>tiene_balcon</th>\n",
       "      <th>tiene_patio</th>\n",
       "    </tr>\n",
       "  </thead>\n",
       "  <tbody>\n",
       "    <tr>\n",
       "      <th>0</th>\n",
       "      <td>2 ambientes tipo casa planta baja por pasillo,...</td>\n",
       "      <td>2 ambientes tipo casa planta baja por pasillo,...</td>\n",
       "      <td>0</td>\n",
       "      <td>1</td>\n",
       "    </tr>\n",
       "    <tr>\n",
       "      <th>1</th>\n",
       "      <td>venta de departamento en décimo piso al frente...</td>\n",
       "      <td>venta de departamento en décimo piso al frente...</td>\n",
       "      <td>1</td>\n",
       "      <td>0</td>\n",
       "    </tr>\n",
       "    <tr>\n",
       "      <th>2</th>\n",
       "      <td>2 ambientes 3er piso lateral living comedor am...</td>\n",
       "      <td>2 ambientes 3er piso lateral living comedor am...</td>\n",
       "      <td>0</td>\n",
       "      <td>0</td>\n",
       "    </tr>\n",
       "  </tbody>\n",
       "</table>\n",
       "</div>"
      ],
      "text/plain": [
       "                                         description  \\\n",
       "0  2 ambientes tipo casa planta baja por pasillo,...   \n",
       "1  venta de departamento en décimo piso al frente...   \n",
       "2  2 ambientes 3er piso lateral living comedor am...   \n",
       "\n",
       "                                          desc_lower  tiene_balcon  \\\n",
       "0  2 ambientes tipo casa planta baja por pasillo,...             0   \n",
       "1  venta de departamento en décimo piso al frente...             1   \n",
       "2  2 ambientes 3er piso lateral living comedor am...             0   \n",
       "\n",
       "   tiene_patio  \n",
       "0            1  \n",
       "1            0  \n",
       "2            0  "
      ]
     },
     "execution_count": 181,
     "metadata": {},
     "output_type": "execute_result"
    }
   ],
   "source": [
    "# Pasar descripción a lower case para tener menos variabilidad buscando las palabras clave\n",
    "data_description = df.loc[:, ['description']]\n",
    "data_description['desc_lower'] = data_description['description'].str.lower()\n",
    "data_description[\"tiene_balcon\"] = data_description.desc_lower.str.contains(r\"balcon|balcón\").map({True: 1, False: 0})\n",
    "data_description[\"tiene_patio\"] = data_description.desc_lower.str.contains(r\"patio\").map({True: 1, False: 0})\n",
    "data_description.head(3)"
   ]
  },
  {
   "cell_type": "markdown",
   "metadata": {},
   "source": [
    "<br>"
   ]
  },
  {
   "cell_type": "code",
   "execution_count": null,
   "metadata": {},
   "outputs": [
    {
     "data": {
      "text/html": [
       "<div>\n",
       "<style scoped>\n",
       "    .dataframe tbody tr th:only-of-type {\n",
       "        vertical-align: middle;\n",
       "    }\n",
       "\n",
       "    .dataframe tbody tr th {\n",
       "        vertical-align: top;\n",
       "    }\n",
       "\n",
       "    .dataframe thead th {\n",
       "        text-align: right;\n",
       "    }\n",
       "</style>\n",
       "<table border=\"1\" class=\"dataframe\">\n",
       "  <thead>\n",
       "    <tr style=\"text-align: right;\">\n",
       "      <th></th>\n",
       "      <th>description</th>\n",
       "      <th>desc_lower</th>\n",
       "      <th>tiene_balcon</th>\n",
       "      <th>tiene_patio</th>\n",
       "      <th>tiene_exterior</th>\n",
       "    </tr>\n",
       "  </thead>\n",
       "  <tbody>\n",
       "    <tr>\n",
       "      <th>0</th>\n",
       "      <td>2 ambientes tipo casa planta baja por pasillo,...</td>\n",
       "      <td>2 ambientes tipo casa planta baja por pasillo,...</td>\n",
       "      <td>0</td>\n",
       "      <td>1</td>\n",
       "      <td>1</td>\n",
       "    </tr>\n",
       "    <tr>\n",
       "      <th>1</th>\n",
       "      <td>venta de departamento en décimo piso al frente...</td>\n",
       "      <td>venta de departamento en décimo piso al frente...</td>\n",
       "      <td>1</td>\n",
       "      <td>0</td>\n",
       "      <td>1</td>\n",
       "    </tr>\n",
       "    <tr>\n",
       "      <th>2</th>\n",
       "      <td>2 ambientes 3er piso lateral living comedor am...</td>\n",
       "      <td>2 ambientes 3er piso lateral living comedor am...</td>\n",
       "      <td>0</td>\n",
       "      <td>0</td>\n",
       "      <td>0</td>\n",
       "    </tr>\n",
       "  </tbody>\n",
       "</table>\n",
       "</div>"
      ],
      "text/plain": [
       "                                         description  \\\n",
       "0  2 ambientes tipo casa planta baja por pasillo,...   \n",
       "1  venta de departamento en décimo piso al frente...   \n",
       "2  2 ambientes 3er piso lateral living comedor am...   \n",
       "\n",
       "                                          desc_lower  tiene_balcon  \\\n",
       "0  2 ambientes tipo casa planta baja por pasillo,...             0   \n",
       "1  venta de departamento en décimo piso al frente...             1   \n",
       "2  2 ambientes 3er piso lateral living comedor am...             0   \n",
       "\n",
       "   tiene_patio  tiene_exterior  \n",
       "0            1               1  \n",
       "1            0               1  \n",
       "2            0               0  "
      ]
     },
     "execution_count": 197,
     "metadata": {},
     "output_type": "execute_result"
    }
   ],
   "source": [
    "# Función lambda para identificar si tiene al menos un espacio exterior\n",
    "tiene_esp_extrerior = lambda balcon, patio: balcon if balcon > 0 else patio if patio > 0 else 0\n",
    "\n",
    "\n",
    "# Aplicamos la función\n",
    "data_description['tiene_exterior'] = 0\n",
    "data_description['tiene_exterior'] = data_description.apply(lambda row: tiene_esp_extrerior(row.tiene_balcon, row.tiene_patio), axis=1)\n",
    "data_description.head(3)"
   ]
  },
  {
   "cell_type": "markdown",
   "metadata": {},
   "source": [
    "<br>"
   ]
  },
  {
   "cell_type": "code",
   "execution_count": null,
   "metadata": {},
   "outputs": [
    {
     "data": {
      "text/html": [
       "<div>\n",
       "<style scoped>\n",
       "    .dataframe tbody tr th:only-of-type {\n",
       "        vertical-align: middle;\n",
       "    }\n",
       "\n",
       "    .dataframe tbody tr th {\n",
       "        vertical-align: top;\n",
       "    }\n",
       "\n",
       "    .dataframe thead th {\n",
       "        text-align: right;\n",
       "    }\n",
       "</style>\n",
       "<table border=\"1\" class=\"dataframe\">\n",
       "  <thead>\n",
       "    <tr style=\"text-align: right;\">\n",
       "      <th></th>\n",
       "      <th>property_type</th>\n",
       "      <th>place_name</th>\n",
       "      <th>place_with_parent_names</th>\n",
       "      <th>state_name</th>\n",
       "      <th>lat-lon</th>\n",
       "      <th>lat</th>\n",
       "      <th>lon</th>\n",
       "      <th>...</th>\n",
       "      <th>price_per_m2</th>\n",
       "      <th>floor</th>\n",
       "      <th>rooms</th>\n",
       "      <th>expenses</th>\n",
       "      <th>description</th>\n",
       "      <th>title</th>\n",
       "      <th>tiene_exterior</th>\n",
       "    </tr>\n",
       "  </thead>\n",
       "  <tbody>\n",
       "    <tr>\n",
       "      <th>0</th>\n",
       "      <td>PH</td>\n",
       "      <td>Mataderos</td>\n",
       "      <td>|Argentina|Capital Federal|Mataderos|</td>\n",
       "      <td>Capital Federal</td>\n",
       "      <td>-34.66667, -34.66667</td>\n",
       "      <td>-34.667</td>\n",
       "      <td>-58.500</td>\n",
       "      <td>...</td>\n",
       "      <td>1550.000</td>\n",
       "      <td>NaN</td>\n",
       "      <td>NaN</td>\n",
       "      <td>no informa</td>\n",
       "      <td>2 ambientes tipo casa planta baja por pasillo,...</td>\n",
       "      <td>2 AMB TIPO CASA SIN EXPENSAS EN PB</td>\n",
       "      <td>1</td>\n",
       "    </tr>\n",
       "    <tr>\n",
       "      <th>1</th>\n",
       "      <td>apartment</td>\n",
       "      <td>La Plata</td>\n",
       "      <td>|Argentina|Bs.As. G.B.A. Zona Sur|La Plata|</td>\n",
       "      <td>Bs.As. G.B.A. Zona Sur</td>\n",
       "      <td>-35.0, -35.0</td>\n",
       "      <td>-35.000</td>\n",
       "      <td>-58.000</td>\n",
       "      <td>...</td>\n",
       "      <td>NaN</td>\n",
       "      <td>NaN</td>\n",
       "      <td>NaN</td>\n",
       "      <td>expensas bajas</td>\n",
       "      <td>venta de departamento en décimo piso al frente...</td>\n",
       "      <td>VENTA Depto 2 dorm. a estrenar 7 e/ 36 y 37   ...</td>\n",
       "      <td>1</td>\n",
       "    </tr>\n",
       "    <tr>\n",
       "      <th>2</th>\n",
       "      <td>apartment</td>\n",
       "      <td>Mataderos</td>\n",
       "      <td>|Argentina|Capital Federal|Mataderos|</td>\n",
       "      <td>Capital Federal</td>\n",
       "      <td>-34.66667, -34.66667</td>\n",
       "      <td>-34.667</td>\n",
       "      <td>-58.500</td>\n",
       "      <td>...</td>\n",
       "      <td>1309.091</td>\n",
       "      <td>NaN</td>\n",
       "      <td>NaN</td>\n",
       "      <td>expensas bajas</td>\n",
       "      <td>2 ambientes 3er piso lateral living comedor am...</td>\n",
       "      <td>2 AMB 3ER PISO CON ASCENSOR APTO CREDITO</td>\n",
       "      <td>0</td>\n",
       "    </tr>\n",
       "    <tr>\n",
       "      <th>3</th>\n",
       "      <td>PH</td>\n",
       "      <td>Liniers</td>\n",
       "      <td>|Argentina|Capital Federal|Liniers|</td>\n",
       "      <td>Capital Federal</td>\n",
       "      <td>-34.64286, -34.64286</td>\n",
       "      <td>-34.643</td>\n",
       "      <td>-58.524</td>\n",
       "      <td>...</td>\n",
       "      <td>NaN</td>\n",
       "      <td>NaN</td>\n",
       "      <td>NaN</td>\n",
       "      <td>no informa</td>\n",
       "      <td>ph 3 ambientes con patio. hay 3 deptos en lote...</td>\n",
       "      <td>PH 3 amb. cfte. reciclado</td>\n",
       "      <td>1</td>\n",
       "    </tr>\n",
       "    <tr>\n",
       "      <th>4</th>\n",
       "      <td>apartment</td>\n",
       "      <td>Centro</td>\n",
       "      <td>|Argentina|Buenos Aires Costa Atlántica|Mar de...</td>\n",
       "      <td>Buenos Aires Costa Atlántica</td>\n",
       "      <td>-38.0026256,-57.5494468</td>\n",
       "      <td>NaN</td>\n",
       "      <td>NaN</td>\n",
       "      <td>...</td>\n",
       "      <td>1828.571</td>\n",
       "      <td>NaN</td>\n",
       "      <td>NaN</td>\n",
       "      <td>no informa</td>\n",
       "      <td>departamento con fantástica iluminación natura...</td>\n",
       "      <td>DEPTO 2 AMB AL CONTRAFRENTE ZONA CENTRO/PLAZA ...</td>\n",
       "      <td>0</td>\n",
       "    </tr>\n",
       "  </tbody>\n",
       "</table>\n",
       "<p>5 rows × 19 columns</p>\n",
       "</div>"
      ],
      "text/plain": [
       "  property_type place_name                            place_with_parent_names  \\\n",
       "0            PH  Mataderos              |Argentina|Capital Federal|Mataderos|   \n",
       "1     apartment   La Plata        |Argentina|Bs.As. G.B.A. Zona Sur|La Plata|   \n",
       "2     apartment  Mataderos              |Argentina|Capital Federal|Mataderos|   \n",
       "3            PH    Liniers                |Argentina|Capital Federal|Liniers|   \n",
       "4     apartment     Centro  |Argentina|Buenos Aires Costa Atlántica|Mar de...   \n",
       "\n",
       "                     state_name                  lat-lon     lat     lon  ...  \\\n",
       "0               Capital Federal     -34.66667, -34.66667 -34.667 -58.500  ...   \n",
       "1        Bs.As. G.B.A. Zona Sur             -35.0, -35.0 -35.000 -58.000  ...   \n",
       "2               Capital Federal     -34.66667, -34.66667 -34.667 -58.500  ...   \n",
       "3               Capital Federal     -34.64286, -34.64286 -34.643 -58.524  ...   \n",
       "4  Buenos Aires Costa Atlántica  -38.0026256,-57.5494468     NaN     NaN  ...   \n",
       "\n",
       "   price_per_m2  floor  rooms        expenses  \\\n",
       "0      1550.000    NaN    NaN      no informa   \n",
       "1           NaN    NaN    NaN  expensas bajas   \n",
       "2      1309.091    NaN    NaN  expensas bajas   \n",
       "3           NaN    NaN    NaN      no informa   \n",
       "4      1828.571    NaN    NaN      no informa   \n",
       "\n",
       "                                         description  \\\n",
       "0  2 ambientes tipo casa planta baja por pasillo,...   \n",
       "1  venta de departamento en décimo piso al frente...   \n",
       "2  2 ambientes 3er piso lateral living comedor am...   \n",
       "3  ph 3 ambientes con patio. hay 3 deptos en lote...   \n",
       "4  departamento con fantástica iluminación natura...   \n",
       "\n",
       "                                               title  tiene_exterior  \n",
       "0                 2 AMB TIPO CASA SIN EXPENSAS EN PB               1  \n",
       "1  VENTA Depto 2 dorm. a estrenar 7 e/ 36 y 37   ...               1  \n",
       "2           2 AMB 3ER PISO CON ASCENSOR APTO CREDITO               0  \n",
       "3                       PH 3 amb. cfte. reciclado                  1  \n",
       "4  DEPTO 2 AMB AL CONTRAFRENTE ZONA CENTRO/PLAZA ...               0  \n",
       "\n",
       "[5 rows x 19 columns]"
      ]
     },
     "execution_count": 198,
     "metadata": {},
     "output_type": "execute_result"
    }
   ],
   "source": [
    "# Llevo tiene_exterior al dataset original\n",
    "df['tiene_exterior'] = data_description['tiene_exterior']\n",
    "df.head(5)"
   ]
  },
  {
   "cell_type": "markdown",
   "metadata": {},
   "source": [
    "<br>"
   ]
  },
  {
   "cell_type": "markdown",
   "metadata": {},
   "source": [
    "<br>"
   ]
  },
  {
   "cell_type": "markdown",
   "metadata": {},
   "source": [
    "#### Creación de dummies sobre ubicación geográfica <br>"
   ]
  },
  {
   "cell_type": "code",
   "execution_count": null,
   "metadata": {},
   "outputs": [
    {
     "data": {
      "text/plain": [
       "Córdoba                                8810\n",
       "Rosario                                7389\n",
       "Mar del Plata                          6487\n",
       "Tigre                                  3208\n",
       "Nordelta                               3044\n",
       "                                       ... \n",
       "Berazategui Oeste                         1\n",
       "Barrio Cerrado \"La Candelaria\"            1\n",
       "Barrio San Alfonso - Pilar del Este       1\n",
       "Lago Epuyén                               1\n",
       "Altos de Hudson I                         1\n",
       "Name: place_name, Length: 1061, dtype: int64"
      ]
     },
     "execution_count": 199,
     "metadata": {},
     "output_type": "execute_result"
    }
   ],
   "source": [
    "# Identificar los grupos de provincias\n",
    "df['place_name'].value_counts()"
   ]
  },
  {
   "cell_type": "code",
   "execution_count": null,
   "metadata": {},
   "outputs": [],
   "source": [
    "df['capital_federal'] = df.state_name.str.contains(r'Capital Federal').map({True: 1, False: 0})\n",
    "df['zona_sur'] = df.state_name.str.contains(r'Bs.As. G.B.A. Zona Sur').map({True: 1, False: 0})\n",
    "df['zona_norte'] = df.state_name.str.contains(r'Bs.As. G.B.A. Zona Norte').map({True: 1, False: 0})\n",
    "df['zona_oeste'] = df.state_name.str.contains(r'Bs.As. G.B.A. Zona Oeste').map({True: 1, False: 0})\n",
    "df['costa_atlantica'] = df.state_name.str.contains(r'Buenos Aires Costa Atlántica').map({True: 1, False: 0})\n",
    "df['cordoba'] = df.state_name.str.contains(r'Córdoba').map({True: 1, False: 0})\n",
    "df['santa_fe'] = df.state_name.str.contains(r'Santa Fe').map({True: 1, False: 0})\n",
    "df['interior'] = df.state_name.str.contains(r'Buenos Aires Interior|Catamarca|Chacho|Chubut|Corrientes|Entre Ríos|Formosa|Jujuy|La Pampa|La Rioja|Mendoza|Misiones|Neuquén|Río Negro|Salta|San Juan|San Luis|Santa Cruz|Santiago Del Estero|Tierra del Fuego|Tucumán').map({True: 1, False: 0})\n"
   ]
  },
  {
   "cell_type": "code",
   "execution_count": null,
   "metadata": {},
   "outputs": [
    {
     "data": {
      "text/html": [
       "<div>\n",
       "<style scoped>\n",
       "    .dataframe tbody tr th:only-of-type {\n",
       "        vertical-align: middle;\n",
       "    }\n",
       "\n",
       "    .dataframe tbody tr th {\n",
       "        vertical-align: top;\n",
       "    }\n",
       "\n",
       "    .dataframe thead th {\n",
       "        text-align: right;\n",
       "    }\n",
       "</style>\n",
       "<table border=\"1\" class=\"dataframe\">\n",
       "  <thead>\n",
       "    <tr style=\"text-align: right;\">\n",
       "      <th></th>\n",
       "      <th>property_type</th>\n",
       "      <th>place_name</th>\n",
       "      <th>place_with_parent_names</th>\n",
       "      <th>state_name</th>\n",
       "      <th>lat-lon</th>\n",
       "      <th>lat</th>\n",
       "      <th>lon</th>\n",
       "      <th>...</th>\n",
       "      <th>zona_sur</th>\n",
       "      <th>zona_norte</th>\n",
       "      <th>zona_oeste</th>\n",
       "      <th>costa_atlantica</th>\n",
       "      <th>cordoba</th>\n",
       "      <th>santa_fe</th>\n",
       "      <th>interior</th>\n",
       "    </tr>\n",
       "  </thead>\n",
       "  <tbody>\n",
       "    <tr>\n",
       "      <th>0</th>\n",
       "      <td>PH</td>\n",
       "      <td>Mataderos</td>\n",
       "      <td>|Argentina|Capital Federal|Mataderos|</td>\n",
       "      <td>Capital Federal</td>\n",
       "      <td>-34.66667, -34.66667</td>\n",
       "      <td>-34.667</td>\n",
       "      <td>-58.500</td>\n",
       "      <td>...</td>\n",
       "      <td>0</td>\n",
       "      <td>0</td>\n",
       "      <td>0</td>\n",
       "      <td>0</td>\n",
       "      <td>0</td>\n",
       "      <td>0</td>\n",
       "      <td>0</td>\n",
       "    </tr>\n",
       "    <tr>\n",
       "      <th>1</th>\n",
       "      <td>apartment</td>\n",
       "      <td>La Plata</td>\n",
       "      <td>|Argentina|Bs.As. G.B.A. Zona Sur|La Plata|</td>\n",
       "      <td>Bs.As. G.B.A. Zona Sur</td>\n",
       "      <td>-35.0, -35.0</td>\n",
       "      <td>-35.000</td>\n",
       "      <td>-58.000</td>\n",
       "      <td>...</td>\n",
       "      <td>1</td>\n",
       "      <td>0</td>\n",
       "      <td>0</td>\n",
       "      <td>0</td>\n",
       "      <td>0</td>\n",
       "      <td>0</td>\n",
       "      <td>0</td>\n",
       "    </tr>\n",
       "    <tr>\n",
       "      <th>2</th>\n",
       "      <td>apartment</td>\n",
       "      <td>Mataderos</td>\n",
       "      <td>|Argentina|Capital Federal|Mataderos|</td>\n",
       "      <td>Capital Federal</td>\n",
       "      <td>-34.66667, -34.66667</td>\n",
       "      <td>-34.667</td>\n",
       "      <td>-58.500</td>\n",
       "      <td>...</td>\n",
       "      <td>0</td>\n",
       "      <td>0</td>\n",
       "      <td>0</td>\n",
       "      <td>0</td>\n",
       "      <td>0</td>\n",
       "      <td>0</td>\n",
       "      <td>0</td>\n",
       "    </tr>\n",
       "  </tbody>\n",
       "</table>\n",
       "<p>3 rows × 27 columns</p>\n",
       "</div>"
      ],
      "text/plain": [
       "  property_type place_name                      place_with_parent_names  \\\n",
       "0            PH  Mataderos        |Argentina|Capital Federal|Mataderos|   \n",
       "1     apartment   La Plata  |Argentina|Bs.As. G.B.A. Zona Sur|La Plata|   \n",
       "2     apartment  Mataderos        |Argentina|Capital Federal|Mataderos|   \n",
       "\n",
       "               state_name               lat-lon     lat     lon  ...  \\\n",
       "0         Capital Federal  -34.66667, -34.66667 -34.667 -58.500  ...   \n",
       "1  Bs.As. G.B.A. Zona Sur          -35.0, -35.0 -35.000 -58.000  ...   \n",
       "2         Capital Federal  -34.66667, -34.66667 -34.667 -58.500  ...   \n",
       "\n",
       "   zona_sur  zona_norte  zona_oeste  costa_atlantica  cordoba  santa_fe  \\\n",
       "0         0           0           0                0        0         0   \n",
       "1         1           0           0                0        0         0   \n",
       "2         0           0           0                0        0         0   \n",
       "\n",
       "   interior  \n",
       "0         0  \n",
       "1         0  \n",
       "2         0  \n",
       "\n",
       "[3 rows x 27 columns]"
      ]
     },
     "execution_count": 201,
     "metadata": {},
     "output_type": "execute_result"
    }
   ],
   "source": [
    "df.head(3)"
   ]
  },
  {
   "cell_type": "markdown",
   "metadata": {},
   "source": [
    "## asas"
   ]
  },
  {
   "cell_type": "code",
   "execution_count": 371,
   "metadata": {},
   "outputs": [
    {
     "data": {
      "image/png": "[encoded data removed]"
     },
     "metadata": {},
     "output_type": "display_data"
    }
   ],
   "source": [
    "columns = [column for column in df.columns if column != 'bajexp' and column != 'sinexp']\n",
    "\n",
    "test = df[columns]\n",
    "\n",
    "correlation_matrix(test, '')"
   ]
  },
  {
   "cell_type": "markdown",
   "metadata": {},
   "source": [
    "## Eliminacion de outliers <br>"
   ]
  },
  {
   "cell_type": "markdown",
   "metadata": {},
   "source": [
    "Utilizando el metodo dataframe.describe obtenemos una descripción de medidas de posición de nuestras columnas. De esta se desprenden que las columnas rooms price y expenses cuentan con valores máximos muy elevado en relación al tercer cuartil. De esto inferimos que algunos de los valores son superiores a la sumatoria de la media y tres desviaciones estandar<br>"
   ]
  },
  {
   "cell_type": "code",
   "execution_count": 404,
   "metadata": {},
   "outputs": [
    {
     "data": {
      "text/html": [
       "<div>\n",
       "<style scoped>\n",
       "    .dataframe tbody tr th:only-of-type {\n",
       "        vertical-align: middle;\n",
       "    }\n",
       "\n",
       "    .dataframe tbody tr th {\n",
       "        vertical-align: top;\n",
       "    }\n",
       "\n",
       "    .dataframe thead th {\n",
       "        text-align: right;\n",
       "    }\n",
       "</style>\n",
       "<table border=\"1\" class=\"dataframe\">\n",
       "  <thead>\n",
       "    <tr style=\"text-align: right;\">\n",
       "      <th></th>\n",
       "      <th>price_usd</th>\n",
       "      <th>rooms</th>\n",
       "    </tr>\n",
       "  </thead>\n",
       "  <tbody>\n",
       "    <tr>\n",
       "      <th>count</th>\n",
       "      <td>88507.000</td>\n",
       "      <td>34840.000</td>\n",
       "    </tr>\n",
       "    <tr>\n",
       "      <th>mean</th>\n",
       "      <td>192657.887</td>\n",
       "      <td>3.034</td>\n",
       "    </tr>\n",
       "    <tr>\n",
       "      <th>std</th>\n",
       "      <td>133448.113</td>\n",
       "      <td>1.711</td>\n",
       "    </tr>\n",
       "    <tr>\n",
       "      <th>min</th>\n",
       "      <td>53335.460</td>\n",
       "      <td>1.000</td>\n",
       "    </tr>\n",
       "    <tr>\n",
       "      <th>25%</th>\n",
       "      <td>95000.000</td>\n",
       "      <td>2.000</td>\n",
       "    </tr>\n",
       "    <tr>\n",
       "      <th>50%</th>\n",
       "      <td>145000.000</td>\n",
       "      <td>3.000</td>\n",
       "    </tr>\n",
       "    <tr>\n",
       "      <th>75%</th>\n",
       "      <td>250000.000</td>\n",
       "      <td>4.000</td>\n",
       "    </tr>\n",
       "    <tr>\n",
       "      <th>max</th>\n",
       "      <td>699514.000</td>\n",
       "      <td>32.000</td>\n",
       "    </tr>\n",
       "  </tbody>\n",
       "</table>\n",
       "</div>"
      ],
      "text/plain": [
       "       price_usd     rooms\n",
       "count  88507.000 34840.000\n",
       "mean  192657.887     3.034\n",
       "std   133448.113     1.711\n",
       "min    53335.460     1.000\n",
       "25%    95000.000     2.000\n",
       "50%   145000.000     3.000\n",
       "75%   250000.000     4.000\n",
       "max   699514.000    32.000"
      ]
     },
     "execution_count": 404,
     "metadata": {},
     "output_type": "execute_result"
    }
   ],
   "source": [
    "\n",
    "def outliers_mask(df, col, q):\n",
    "    df = df[ (df[col] < df[col].quantile(q=1-q)) & (df[col] > df[col].quantile(q=q))]\n",
    "    return df\n",
    "    \n",
    "\n",
    "outliers_mask(df, 'price_usd', 0.05).loc[:, ['price_usd', 'rooms']].describe()\n",
    "\n",
    "\n",
    "df.loc[:, ['price_usd','rooms']].describe()\n"
   ]
  },
  {
   "cell_type": "markdown",
   "metadata": {},
   "source": [
    "Efectivamente podemos decir que se tratan de outliers debido a su dispersión en relación a la media y su bajo número."
   ]
  },
  {
   "cell_type": "code",
   "execution_count": null,
   "metadata": {},
   "outputs": [
    {
     "data": {
      "text/html": [
       "<div>\n",
       "<style scoped>\n",
       "    .dataframe tbody tr th:only-of-type {\n",
       "        vertical-align: middle;\n",
       "    }\n",
       "\n",
       "    .dataframe tbody tr th {\n",
       "        vertical-align: top;\n",
       "    }\n",
       "\n",
       "    .dataframe thead th {\n",
       "        text-align: right;\n",
       "    }\n",
       "</style>\n",
       "<table border=\"1\" class=\"dataframe\">\n",
       "  <thead>\n",
       "    <tr style=\"text-align: right;\">\n",
       "      <th></th>\n",
       "      <th>price_usd</th>\n",
       "      <th>rooms</th>\n",
       "      <th>expenses</th>\n",
       "    </tr>\n",
       "  </thead>\n",
       "  <tbody>\n",
       "    <tr>\n",
       "      <th>count</th>\n",
       "      <td>1669.000</td>\n",
       "      <td>1151.000</td>\n",
       "      <td>153.000</td>\n",
       "    </tr>\n",
       "    <tr>\n",
       "      <th>mean</th>\n",
       "      <td>1792338.923</td>\n",
       "      <td>8.689</td>\n",
       "      <td>11642.072</td>\n",
       "    </tr>\n",
       "    <tr>\n",
       "      <th>std</th>\n",
       "      <td>2083341.722</td>\n",
       "      <td>4.968</td>\n",
       "      <td>10889.037</td>\n",
       "    </tr>\n",
       "    <tr>\n",
       "      <th>min</th>\n",
       "      <td>8973.380</td>\n",
       "      <td>1.000</td>\n",
       "      <td>1.000</td>\n",
       "    </tr>\n",
       "    <tr>\n",
       "      <th>25%</th>\n",
       "      <td>590000.000</td>\n",
       "      <td>5.000</td>\n",
       "      <td>1111.000</td>\n",
       "    </tr>\n",
       "    <tr>\n",
       "      <th>50%</th>\n",
       "      <td>1622910.000</td>\n",
       "      <td>9.000</td>\n",
       "      <td>10000.000</td>\n",
       "    </tr>\n",
       "    <tr>\n",
       "      <th>75%</th>\n",
       "      <td>2130040.000</td>\n",
       "      <td>11.000</td>\n",
       "      <td>16000.000</td>\n",
       "    </tr>\n",
       "    <tr>\n",
       "      <th>max</th>\n",
       "      <td>46545445.000</td>\n",
       "      <td>32.000</td>\n",
       "      <td>53000.000</td>\n",
       "    </tr>\n",
       "  </tbody>\n",
       "</table>\n",
       "</div>"
      ],
      "text/plain": [
       "         price_usd    rooms  expenses\n",
       "count     1669.000 1151.000   153.000\n",
       "mean   1792338.923    8.689 11642.072\n",
       "std    2083341.722    4.968 10889.037\n",
       "min       8973.380    1.000     1.000\n",
       "25%     590000.000    5.000  1111.000\n",
       "50%    1622910.000    9.000 10000.000\n",
       "75%    2130040.000   11.000 16000.000\n",
       "max   46545445.000   32.000 53000.000"
      ]
     },
     "execution_count": 2102,
     "metadata": {},
     "output_type": "execute_result"
    }
   ],
   "source": [
    "# Creamos dos mascaras de comprobación\n",
    "mask_price = df['price_usd'].mean() + df['price_usd'].std()*3\n",
    "mask_rooms = df['rooms'].mean() + df['rooms'].std()*3\n",
    "mask_expes = df['expenses'].mean() + df['expenses'].std()*3\n",
    "\n",
    "\n",
    "# Aplicamos la mascara\n",
    "df[(df['price_usd'] > mask_price) | (df['rooms'] > mask_rooms) | (df['rooms'] > mask_expes)].loc[:, ['price_usd', 'rooms', 'expenses']].describe()"
   ]
  },
  {
   "cell_type": "markdown",
   "metadata": {},
   "source": [
    "<br> Filtramos el dataset para excluir los outliers."
   ]
  },
  {
   "cell_type": "code",
   "execution_count": null,
   "metadata": {},
   "outputs": [],
   "source": [
    "df = df[(df['price_usd'] < mask_price) & (df['rooms'] < mask_rooms) & (df['expenses'] < mask_expes)]"
   ]
  }
 ],
 "metadata": {
  "kernelspec": {
   "display_name": "Python 3.9.7 ('base')",
   "language": "python",
   "name": "python3"
  },
  "language_info": {
   "codemirror_mode": {
    "name": "ipython",
    "version": 3
   },
   "file_extension": ".py",
   "mimetype": "text/x-python",
   "name": "python",
   "nbconvert_exporter": "python",
   "pygments_lexer": "ipython3",
   "version": "3.9.7"
  },
  "vscode": {
   "interpreter": {
    "hash": "9e1268e753d31d3a1fe2407a4addf535ff23e599fb1fcad4ab789a2aed9256e3"
   }
  }
 },
 "nbformat": 4,
 "nbformat_minor": 1
}
